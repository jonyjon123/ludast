{
 "cells": [
  {
   "cell_type": "code",
   "execution_count": null,
   "metadata": {
    "collapsed": false
   },
   "outputs": [],
   "source": [
    "import numpy as np\n",
    "import pandas as p\n",
    "import matplotlib.pyplot as plt\n",
    "from sklearn.ensemble import RandomForestClassifier\n",
    "documents_categories = p.read_csv(\"/Users/astrachan/Desktop/outbrain/documents_categories.csv\")\n",
    "#clicks_test = p.read_csv(\"/Users/astrachan/Desktop/outbrain/clicks_test.csv\")\n",
    "#documents_meta = p.read_csv(\"/Users/astrachan/Desktop/outbrain/documents_meta.csv\")\n",
    "#documents_entities = p.read_csv(\"/Users/astrachan/Desktop/outbrain/documents_entities.csv\")\n",
    "promoted_content = p.read_csv(\"/Users/astrachan/Desktop/outbrain/promoted_content.csv\")\n",
    "#sample_submission = p.read_csv(\"/Users/astrachan/Desktop/outbrain/sample_submission.csv\")\n",
    "documents_topics = p.read_csv(\"/Users/astrachan/Desktop/outbrain/documents_topics.csv\")\n",
    "clicks_train = p.read_csv(\"/Users/astrachan/Desktop/outbrain/clicks_train.csv\", dtype={\"display_id\": int, \"ad_id\": int, \"clicked\" : bool})\n",
    "events = p.read_csv(\"/Users/astrachan/Desktop/outbrain/events.csv\", dtype={\"display_id\": int, \"uuid\": str, \"document_id\" : int, \"timestamp\" : int, \"platform\" : object, \"geo_location\" : str})\n",
    "#page_views = p.read_csv(\"/Users/astrachan/Desktop/outbrain/page_views.csv\")\n",
    "#page_views_sample = p.read_csv(\"/Users/astrachan/Desktop/outbrain/page_views_sample.csv\")"
   ]
  },
  {
   "cell_type": "code",
   "execution_count": null,
   "metadata": {
    "collapsed": true
   },
   "outputs": [],
   "source": [
    "#add document to clicks_train\n",
    "events.drop(events.columns[[1,3,4,5]],axis = 1,inplace=True)\n",
    "clicks_train = clicks_train.merge(events, how='left', on='display_id')\n",
    "del events"
   ]
  },
  {
   "cell_type": "code",
   "execution_count": null,
   "metadata": {
    "collapsed": false
   },
   "outputs": [],
   "source": [
    "#split to validation and train\n",
    "leng = len(clicks_train.display_id.unique())\n",
    "start_display_id_validation = (4 * leng / 5)\n",
    "start_index_validation = clicks_train[clicks_train['display_id'] == start_display_id_validation].index.tolist()[0]\n",
    "validation = clicks_train[start_index_validation:]\n",
    "train = clicks_train[:start_index_validation]\n",
    "del clicks_train"
   ]
  },
  {
   "cell_type": "code",
   "execution_count": 196,
   "metadata": {
    "collapsed": false
   },
   "outputs": [],
   "source": [
    "#remove all confidence levels below 0.3, can decide on another criteria later on\n",
    "#documents_entities = documents_entities[documents_entities.confidence_level > 0.3]\n",
    "documents_categories = documents_categories[documents_categories.confidence_level > 0.3]\n",
    "documents_topics = documents_topics[documents_topics.confidence_level > 0.3]"
   ]
  },
  {
   "cell_type": "code",
   "execution_count": 197,
   "metadata": {
    "collapsed": false
   },
   "outputs": [],
   "source": [
    "#drop confidence level\n",
    "documents_categories.drop('confidence_level',axis=1, inplace=True)\n",
    "documents_topics.drop('confidence_level',axis=1, inplace=True)"
   ]
  },
  {
   "cell_type": "code",
   "execution_count": 198,
   "metadata": {
    "collapsed": true
   },
   "outputs": [],
   "source": [
    "#prepare one-hot\n",
    "topic_dummies = p.get_dummies(documents_topics['topic_id'],prefix=\"_ti\")\n",
    "categories_dummies = p.get_dummies(documents_categories['category_id'],prefix=\"_ci\")"
   ]
  },
  {
   "cell_type": "code",
   "execution_count": 199,
   "metadata": {
    "collapsed": false
   },
   "outputs": [],
   "source": [
    "topics = documents_topics.drop('topic_id',1).join(topic_dummies)\n",
    "categories = documents_categories.drop('category_id',1).join(categories_dummies)\n",
    "categories = categories.groupby(['document_id']).sum().reset_index()\n",
    "topics = topics.groupby(['document_id']).sum().reset_index()\n",
    "del documents_categories, documents_topics, categories_dummies, topic_dummies"
   ]
  },
  {
   "cell_type": "code",
   "execution_count": 204,
   "metadata": {
    "collapsed": false
   },
   "outputs": [],
   "source": [
    "#create promoted, promoted content (ad information) with its' categories and topics\n",
    "promoted_content.drop(promoted_content.columns[[2,3]],axis = 1,inplace=True)\n",
    "promoted = promoted_content.merge(categories, how='left', on='document_id')\n",
    "promoted = promoted.merge(topics, how='left', on='document_id').drop('document_id', axis=1)\n",
    "del promoted_content\n",
    "#all Nulls are of documents with no topic or category, equals to 0\n",
    "promoted.fillna(0.0, inplace=True)"
   ]
  },
  {
   "cell_type": "code",
   "execution_count": null,
   "metadata": {
    "collapsed": false
   },
   "outputs": [
    {
     "name": "stderr",
     "output_type": "stream",
     "text": [
      "/Users/astrachan/anaconda/lib/python2.7/site-packages/sklearn/ensemble/forest.py:303: UserWarning: Warm-start fitting without increasing n_estimators does not fit new trees.\n",
      "  warn(\"Warm-start fitting without increasing n_estimators does not \"\n"
     ]
    }
   ],
   "source": [
    "predictors=[x for x in train.columns if x not in ['display_id','ad_id','document_id']]\n",
    "alg = RandomForestClassifier(random_state=1, n_estimators=3, min_samples_split=4, min_samples_leaf=2, warm_start=True)\n",
    "for chunk in np.array_split(train, train.shape[0]/10**6):\n",
    "    chunk = chunk.merge(promoted,how = 'left',on = 'ad_id')\n",
    "    chunk = chunk.merge(categories, how='left', on='document_id',suffixes=('_ad', '_doc'))\n",
    "    chunk = chunk.merge(topics, how='left', on='document_id',suffixes=('_ad', '_doc'))\n",
    "    chunk.fillna(0.0, inplace=True)\n",
    "    alg.fit(chunk[predictors], chunk[\"clicked\"])"
   ]
  },
  {
   "cell_type": "code",
   "execution_count": null,
   "metadata": {
    "collapsed": true
   },
   "outputs": [],
   "source": [
    "predY=[]\n",
    "for chunk in np.array_split(validation, validation.shape[0]/10**6):\n",
    "    init_chunk_size=len(chunk)\n",
    "    chunk.merge(promoted,how = 'left',on = 'ad_id',inplace=True)\n",
    "    chunk.merge(categories, how='left', on='document_id',suffixes=('_ad', '_doc'),inplace=True)\n",
    "    chunk.merge(topics, how='left', on='document_id',suffixes=('_ad', '_doc'),inplace=True)\n",
    "    chunk.fillna(0.0, inplace=True)\n",
    "    chunk_pred=list(alg.predict_proba(chunk[predictors]).astype(float)[:,1])\n",
    "    predY += chunk_pred"
   ]
  },
  {
   "cell_type": "code",
   "execution_count": 186,
   "metadata": {
    "collapsed": false
   },
   "outputs": [],
   "source": [
    "start = 0 * chunk_size\n",
    "end = (0+1) * chunk_size\n",
    "train_chunk = train[start:end].merge(promoted,how = 'left',on = 'ad_id')\n",
    "train_chunk = train_chunk.merge(categories, how='left', on='document_id',suffixes=('_ad', '_doc'))\n",
    "train_chunk = train_chunk.merge(topics, how='left', on='document_id',suffixes=('_ad', '_doc'))\n",
    "train_chunk.fillna(0.0, inplace=True)\n",
    "predictors=[x for x in train_chunk.columns if x not in ['display_id','ad_id','document_id']]\n",
    "alg = RandomForestClassifier(random_state=1, n_estimators=3, min_samples_split=4, min_samples_leaf=2, warm_start=True)\n",
    "alg.fit(train_chunk[predictors], train_chunk[\"clicked\"])"
   ]
  }
 ],
 "metadata": {
  "anaconda-cloud": {},
  "kernelspec": {
   "display_name": "Python [default]",
   "language": "python",
   "name": "python2"
  },
  "language_info": {
   "codemirror_mode": {
    "name": "ipython",
    "version": 2
   },
   "file_extension": ".py",
   "mimetype": "text/x-python",
   "name": "python",
   "nbconvert_exporter": "python",
   "pygments_lexer": "ipython2",
   "version": "2.7.12"
  }
 },
 "nbformat": 4,
 "nbformat_minor": 1
}
