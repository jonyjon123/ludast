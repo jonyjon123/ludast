{
 "cells": [
  {
   "cell_type": "code",
   "execution_count": 10,
   "metadata": {
    "collapsed": false
   },
   "outputs": [],
   "source": [
    "#@@@@all topics addition commented to analyze difference with and without topic@@@@\n",
    "import numpy as np\n",
    "import pandas as p\n",
    "import matplotlib.pyplot as plt\n",
    "import cPickle\n",
    "from sklearn.ensemble import GradientBoostingClassifier\n",
    "documents_categories = p.read_csv(\"/Users/astrachan/Desktop/outbrain/source_tables/documents_categories.csv\")\n",
    "#clicks_test = p.read_csv(\"/Users/astrachan/Desktop/outbrain/source_tables/clicks_test.csv\", dtype={\"display_id\": int, \"ad_id\": int}))\n",
    "#documents_meta = p.read_csv(\"/Users/astrachan/Desktop/outbrain/source_tables/documents_meta.csv\")\n",
    "#documents_entities = p.read_csv(\"/Users/astrachan/Desktop/outbrain/source_tables/documents_entities.csv\")\n",
    "promoted_content = p.read_csv(\"/Users/astrachan/Desktop/outbrain/source_tables/promoted_content.csv\", dtype = {\"ad_id\":int, \"document_id\":int, \"campaign_id\":int, \"advertiser_id\":int})\n",
    "#sample_submission = p.read_csv(\"/Users/astrachan/Desktop/outbrain/source_tables/sample_submission.csv\")\n",
    "documents_topics = p.read_csv(\"/Users/astrachan/Desktop/outbrain/source_tables/documents_topics.csv\")\n",
    "clicks_train = p.read_csv(\"/Users/astrachan/Desktop/outbrain/source_tables/clicks_train.csv\", dtype={\"display_id\": int, \"ad_id\": int, \"clicked\" : bool})\n",
    "events = p.read_csv(\"/Users/astrachan/Desktop/outbrain/source_tables/events.csv\", dtype={\"display_id\": int, \"uuid\": str, \"document_id\" : int, \"timestamp\" : int, \"platform\" : str, \"geo_location\" : str})\n",
    "#page_views = p.read_csv(\"/Users/astrachan/Desktop/outbrain/source_tables/page_views.csv\")\n",
    "#page_views_sample = p.read_csv(\"/Users/astrachan/Desktop/outbrain/source_tables/page_views_sample.csv\")"
   ]
  },
  {
   "cell_type": "code",
   "execution_count": 11,
   "metadata": {
    "collapsed": false
   },
   "outputs": [],
   "source": [
    "#add document to clicks_train\n",
    "events.drop(events.columns[[1,3,4,5]],axis = 1,inplace=True)\n",
    "clicks_train = clicks_train.merge(events, how='left', on='display_id')\n",
    "del events"
   ]
  },
  {
   "cell_type": "code",
   "execution_count": null,
   "metadata": {
    "collapsed": false
   },
   "outputs": [],
   "source": [
    "#1 - choose either 1 or 2\n",
    "#split to validation and train, choosing display_id by random\n",
    "display_ids = clicks_train.groupby(['display_id'])['display_id'].agg({'count' : 'count'}).reset_index().drop('count',axis = 1)\n",
    "validation_displays = display_ids.sample(frac = 0.1)\n",
    "clicks_train.reset_index(level=0, inplace=True)\n",
    "validation = validation_displays.merge(clicks_train, how = 'inner', on = 'display_id')\n",
    "train = clicks_train.drop(validation['index'])\n",
    "del clicks_train"
   ]
  },
  {
   "cell_type": "code",
   "execution_count": 12,
   "metadata": {
    "collapsed": false
   },
   "outputs": [
    {
     "name": "stdout",
     "output_type": "stream",
     "text": [
      "(8712129, 4)\n",
      "(8714413, 4)\n"
     ]
    }
   ],
   "source": [
    "#2\n",
    "#10% of full train for train, 10% validation\n",
    "#split to validation and train, choosing display_id by random\n",
    "display_ids = clicks_train.groupby(['display_id'])['display_id'].agg({'count' : 'count'}).reset_index().drop('count',axis = 1)\n",
    "validation_displays = display_ids.sample(frac = 0.1)\n",
    "display_ids_train = display_ids.drop(validation_displays.index)\n",
    "train_displays = display_ids_train.sample(validation_displays.shape[0])\n",
    "validation = validation_displays.merge(clicks_train, how = 'inner', on = 'display_id')\n",
    "train = train_displays.merge(clicks_train, how = 'inner', on = 'display_id')\n",
    "print train.shape\n",
    "print validation.shape\n",
    "del clicks_train, train_displays, validation_displays, display_ids"
   ]
  },
  {
   "cell_type": "code",
   "execution_count": null,
   "metadata": {
    "collapsed": false
   },
   "outputs": [],
   "source": [
    "#remove all confidence levels below 0.3, can decide on another criteria later on\n",
    "documents_categories = documents_categories[documents_categories.confidence_level > 0.3]\n",
    "documents_topics = documents_topics[documents_topics.confidence_level > 0.3]\n",
    "#drop confidence level\n",
    "documents_categories.drop('confidence_level',axis=1, inplace=True)\n",
    "documents_topics.drop('confidence_level',axis=1, inplace=True)"
   ]
  },
  {
   "cell_type": "code",
   "execution_count": null,
   "metadata": {
    "collapsed": true
   },
   "outputs": [],
   "source": [
    "#prepare one-hot\n",
    "topic_dummies = p.get_dummies(documents_topics['topic_id'],prefix=\"_ti\")\n",
    "categories_dummies = p.get_dummies(documents_categories['category_id'],prefix=\"_ci\")\n",
    "topics = documents_topics.drop('topic_id',1).join(topic_dummies)\n",
    "topics = topics.groupby(['document_id']).sum().reset_index()\n",
    "categories = documents_categories.drop('category_id',1).join(categories_dummies)\n",
    "categories = categories.groupby(['document_id']).sum().reset_index()\n",
    "del documents_categories, categories_dummies, topic_dummies , documents_topics"
   ]
  },
  {
   "cell_type": "code",
   "execution_count": null,
   "metadata": {
    "collapsed": false
   },
   "outputs": [],
   "source": [
    "print promoted_content.head()\n",
    "print categories.head()\n",
    "print topics.head()"
   ]
  },
  {
   "cell_type": "code",
   "execution_count": null,
   "metadata": {
    "collapsed": false
   },
   "outputs": [],
   "source": [
    "#create promoted, promoted content (ad information) with its' categories and topics\n",
    "#remove advertiser_id and campaign id: promoted_content.drop(promoted_content.columns[[2,3]],axis = 1,inplace=True)\n",
    "promoted = promoted_content.merge(categories, how='left', on='document_id')\n",
    "promoted = promoted.merge(topics, how='left', on='document_id').drop('document_id', axis=1)\n",
    "del promoted_content\n",
    "#all Nulls are of documents with no topic or category, equals to 0\n",
    "promoted.fillna(0.0, inplace=True)"
   ]
  },
  {
   "cell_type": "code",
   "execution_count": 37,
   "metadata": {
    "collapsed": false
   },
   "outputs": [],
   "source": [
    "#add ad_on_doc and ad_strength features\n",
    "ad_on_doc = p.read_csv(\"/Users/astrachan/Desktop/outbrain/notebook/document_on_ad.csv\")\n",
    "ad_strength = p.read_csv(\"/Users/astrachan/Desktop/outbrain/notebook/ad_strength.csv\")"
   ]
  },
  {
   "cell_type": "code",
   "execution_count": 39,
   "metadata": {
    "collapsed": false
   },
   "outputs": [],
   "source": [
    "#merge them into train and validation\n",
    "train = train.merge(ad_strength, how = 'left', on = ['ad_id'])\n",
    "train = train.merge(ad_on_doc, how = 'left', on = ['document_id', 'ad_id'], suffixes=('_str','_adoc'))\n",
    "validation = validation.merge(ad_strength, how = 'left', on = ['ad_id'])\n",
    "validation = validation.merge(ad_on_doc, how = 'left', on = ['document_id', 'ad_id'], suffixes=('_str','_adoc'))\n",
    "del ad_on_doc, ad_strength"
   ]
  },
  {
   "cell_type": "code",
   "execution_count": null,
   "metadata": {
    "collapsed": true
   },
   "outputs": [],
   "source": [
    "#get predictors, dummy chunk just for label names\n",
    "chunk = train[:10].merge(promoted,how = 'left',on = 'ad_id')\n",
    "chunk = chunk.merge(categories, how='left', on='document_id',suffixes=('_ad', '_doc'))\n",
    "chunk = chunk.merge(topics, how='left', on='document_id',suffixes=('_ad', '_doc'))\n",
    "predictors=[x for x in train.columns if x not in ['index','display_id','ad_id','document_id','clicked']]"
   ]
  },
  {
   "cell_type": "code",
   "execution_count": null,
   "metadata": {
    "collapsed": true
   },
   "outputs": [],
   "source": [
    "#not in chunks - build classifier\n",
    "train = train.merge(categories, how = 'left', on = 'document_id')\n",
    "train = train.merge(topics, how = 'left', on = 'document_id')\n",
    "train = train.merge(promoted, how = 'left', on = 'ad_id')\n",
    "alg = GradientBoostingClassifier(n_estimators = 500, max_depth=4, min_samples_split = 4, max_leaf_nodes = 4)\n",
    "alg.fit(train[predictors], train[\"clicked\"])"
   ]
  },
  {
   "cell_type": "code",
   "execution_count": null,
   "metadata": {
    "collapsed": true
   },
   "outputs": [],
   "source": [
    "#not in chunks - run on validation\n",
    "validation = validation.merge(categories, how = 'left', on = 'document_id')\n",
    "validation = validation.merge(topics, how = 'left', on = 'document_id')\n",
    "validation = validation.merge(promoted, how = 'left', on = 'ad_id')\n",
    "predY=[]\n",
    "predY = list(alg.predict_proba(validation[predictors]).astype(float)[:,1])"
   ]
  },
  {
   "cell_type": "code",
   "execution_count": null,
   "metadata": {
    "collapsed": true
   },
   "outputs": [],
   "source": [
    "#chunks - number of iterations for training\n",
    "print train.shape[0]/10**5"
   ]
  },
  {
   "cell_type": "code",
   "execution_count": null,
   "metadata": {
    "collapsed": true
   },
   "outputs": [],
   "source": [
    "#chunks\n",
    "initiallize algorithm then fit it on chunks of size 10**5\n",
    "i = 0\n",
    "k = 2\n",
    "alg = RandomForestClassifier(random_state=1, n_estimators=3, min_samples_split=4, min_samples_leaf=2, warm_start=True)\n",
    "for chunk in np.array_split(train, train.shape[0]/10**5):\n",
    "    alg.n_estimators += k\n",
    "    chunk = chunk.merge(promoted,how = 'left',on = 'ad_id')\n",
    "    chunk = chunk.merge(categories, how='left', on='document_id',suffixes=('_ad', '_doc'))\n",
    "    chunk = chunk.merge(topics, how='left', on='document_id',suffixes=('_ad', '_doc'))\n",
    "    chunk.fillna(0.0, inplace=True)\n",
    "    alg.fit(chunk[predictors], chunk[\"clicked\"])\n",
    "    i += 1\n",
    "    print i"
   ]
  },
  {
   "cell_type": "code",
   "execution_count": null,
   "metadata": {
    "collapsed": false
   },
   "outputs": [],
   "source": [
    "#save outputted tree with name [tree_name]\n",
    "tree_name = 'fourthTree_n_est_drop_no_topics'\n",
    "with open('/Users/astrachan/Desktop/outbrain/' + tree_name, 'wb') as f:\n",
    "    cPickle.dump(alg, f)"
   ]
  },
  {
   "cell_type": "code",
   "execution_count": null,
   "metadata": {
    "collapsed": true
   },
   "outputs": [],
   "source": [
    "#chunks - number of iterations for validating\n",
    "print (validation.shape[0]/10**5)"
   ]
  },
  {
   "cell_type": "code",
   "execution_count": null,
   "metadata": {
    "collapsed": true
   },
   "outputs": [],
   "source": [
    "#chunks - run outputted tree on chunks of size 10**5 of validation\n",
    "predY=[]\n",
    "i = 0\n",
    "for chunk in np.array_split(validation[:10**6], validation[:10**6].shape[0]/10**5):\n",
    "    chunk = chunk.merge(promoted,how = 'left',on = 'ad_id')\n",
    "    chunk = chunk.merge(categories, how='left', on='document_id',suffixes=('_ad', '_doc'))\n",
    "    chunk = chunk.merge(topics, how='left', on='document_id',suffixes=('_ad', '_doc'))\n",
    "    chunk.fillna(0.0, inplace=True)\n",
    "    chunk_pred=list(alg.predict_proba(chunk[predictors]).astype(float)[:,1])\n",
    "    predY += chunk_pred\n",
    "    i += 1\n",
    "    print i\n",
    "predY = list(alg.predict_proba(validation[predictors]).astype(float)[:,1])"
   ]
  },
  {
   "cell_type": "code",
   "execution_count": 37,
   "metadata": {
    "collapsed": false
   },
   "outputs": [],
   "source": [
    "#check score\n",
    "predict = np.asarray(predY)\n",
    "val_copy = validation.copy()\n",
    "val_copy['predict'] = predict\n",
    "#delete predict? validation? chunk? chunk_pred? predictors? predY? bentaim lo"
   ]
  },
  {
   "cell_type": "code",
   "execution_count": 38,
   "metadata": {
    "collapsed": false
   },
   "outputs": [
    {
     "data": {
      "text/plain": [
       "0.6920424300232756"
      ]
     },
     "execution_count": 38,
     "metadata": {},
     "output_type": "execute_result"
    }
   ],
   "source": [
    "#portion of correct display_ids predictions\n",
    "max_rows = val_copy.groupby(['display_id'])['predict'].transform(max) == val_copy['predict']\n",
    "final = val_copy[max_rows]\n",
    "success = final[final['clicked'] == True]\n",
    "float(len(success)) / float(len(final))"
   ]
  },
  {
   "cell_type": "code",
   "execution_count": 39,
   "metadata": {
    "collapsed": false
   },
   "outputs": [
    {
     "name": "stdout",
     "output_type": "stream",
     "text": [
      "MAP: 0.816083156129\n"
     ]
    }
   ],
   "source": [
    "#function evaluating how far were you from predicting right\n",
    "val_copy.sort_values(['display_id', 'predict'], inplace=True, ascending=[True, False] )\n",
    "val_copy[\"seq\"] = np.arange(val_copy.shape[0])\n",
    "Y_seq = val_copy[val_copy.clicked == 1].seq.values\n",
    "Y_first = val_copy[['display_id', 'seq']].drop_duplicates(subset='display_id', keep='first').seq.values\n",
    "Y_ranks = Y_seq - Y_first\n",
    "score = np.mean(1.0 / (1.0 + Y_ranks))\n",
    "print(\"MAP: %.12f\" % score)"
   ]
  }
 ],
 "metadata": {
  "anaconda-cloud": {},
  "kernelspec": {
   "display_name": "Python [default]",
   "language": "python",
   "name": "python2"
  },
  "language_info": {
   "codemirror_mode": {
    "name": "ipython",
    "version": 2
   },
   "file_extension": ".py",
   "mimetype": "text/x-python",
   "name": "python",
   "nbconvert_exporter": "python",
   "pygments_lexer": "ipython2",
   "version": "2.7.12"
  }
 },
 "nbformat": 4,
 "nbformat_minor": 1
}
