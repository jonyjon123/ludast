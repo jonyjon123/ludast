{
 "cells": [
  {
   "cell_type": "code",
   "execution_count": 1,
   "metadata": {
    "collapsed": false
   },
   "outputs": [],
   "source": [
    "#@@@@all topics addition commented to analyze difference with and without topic@@@@\n",
    "import numpy as np\n",
    "import pandas as p\n",
    "import matplotlib.pyplot as plt\n",
    "import cPickle\n",
    "from sklearn.ensemble import RandomForestClassifier\n",
    "documents_categories = p.read_csv(\"/Users/astrachan/Desktop/outbrain/documents_categories.csv\")\n",
    "#clicks_test = p.read_csv(\"/Users/astrachan/Desktop/outbrain/clicks_test.csv\", dtype={\"display_id\": int, \"ad_id\": int}))\n",
    "#documents_meta = p.read_csv(\"/Users/astrachan/Desktop/outbrain/documents_meta.csv\")\n",
    "#documents_entities = p.read_csv(\"/Users/astrachan/Desktop/outbrain/documents_entities.csv\")\n",
    "promoted_content = p.read_csv(\"/Users/astrachan/Desktop/outbrain/promoted_content.csv\", dtype = {\"ad_id\":int, \"document_id\":int, \"campaign_id\":int, \"advertiser_id\":int})\n",
    "#sample_submission = p.read_csv(\"/Users/astrachan/Desktop/outbrain/sample_submission.csv\")\n",
    "documents_topics = p.read_csv(\"/Users/astrachan/Desktop/outbrain/documents_topics.csv\")\n",
    "clicks_train = p.read_csv(\"/Users/astrachan/Desktop/outbrain/clicks_train.csv\", dtype={\"display_id\": int, \"ad_id\": int, \"clicked\" : bool})\n",
    "events = p.read_csv(\"/Users/astrachan/Desktop/outbrain/events.csv\", dtype={\"display_id\": int, \"uuid\": str, \"document_id\" : int, \"timestamp\" : int, \"platform\" : str, \"geo_location\" : str})\n",
    "#page_views = p.read_csv(\"/Users/astrachan/Desktop/outbrain/page_views.csv\")\n",
    "#page_views_sample = p.read_csv(\"/Users/astrachan/Desktop/outbrain/page_views_sample.csv\")"
   ]
  },
  {
   "cell_type": "code",
   "execution_count": 2,
   "metadata": {
    "collapsed": true
   },
   "outputs": [],
   "source": [
    "#add document to clicks_train\n",
    "events.drop(events.columns[[1,3,4,5]],axis = 1,inplace=True)\n",
    "clicks_train = clicks_train.merge(events, how='left', on='display_id')\n",
    "del events"
   ]
  },
  {
   "cell_type": "code",
   "execution_count": 3,
   "metadata": {
    "collapsed": false
   },
   "outputs": [],
   "source": [
    "#split to validation and train, choosing display_id by random\n",
    "display_ids = clicks_train.groupby(['display_id'])['display_id'].agg({'count' : 'count'}).reset_index().drop('count',axis = 1)\n",
    "validation_displays = display_ids.sample(frac = 0.2)\n",
    "clicks_train.reset_index(level=0, inplace=True)\n",
    "validation = validation_displays.merge(clicks_train, how = 'inner', on = 'display_id')\n",
    "train = clicks_train.drop(validation['index'])\n",
    "del clicks_train"
   ]
  },
  {
   "cell_type": "code",
   "execution_count": 4,
   "metadata": {
    "collapsed": false
   },
   "outputs": [],
   "source": [
    "#split to validation and train, first 4/5 for train, 1/5 for validation\n",
    "#leng = len(clicks_train.display_id.unique())\n",
    "#start_display_id_validation = (4 * leng / 5)\n",
    "#start_index_validation = clicks_train[clicks_train['display_id'] == start_display_id_validation].index.tolist()[0]\n",
    "#validation = clicks_train[start_index_validation:]\n",
    "#train = clicks_train[:start_index_validation]\n",
    "#del clicks_train"
   ]
  },
  {
   "cell_type": "code",
   "execution_count": 5,
   "metadata": {
    "collapsed": false
   },
   "outputs": [],
   "source": [
    "#remove all confidence levels below 0.3, can decide on another criteria later on\n",
    "#documents_entities = documents_entities[documents_entities.confidence_level > 0.3]\n",
    "documents_categories = documents_categories[documents_categories.confidence_level > 0.3]\n",
    "#documents_topics = documents_topics[documents_topics.confidence_level > 0.3]"
   ]
  },
  {
   "cell_type": "code",
   "execution_count": 6,
   "metadata": {
    "collapsed": false
   },
   "outputs": [],
   "source": [
    "#drop confidence level\n",
    "documents_categories.drop('confidence_level',axis=1, inplace=True)\n",
    "#documents_topics.drop('confidence_level',axis=1, inplace=True)"
   ]
  },
  {
   "cell_type": "code",
   "execution_count": 7,
   "metadata": {
    "collapsed": true
   },
   "outputs": [],
   "source": [
    "#prepare one-hot\n",
    "#topic_dummies = p.get_dummies(documents_topics['topic_id'],prefix=\"_ti\")\n",
    "categories_dummies = p.get_dummies(documents_categories['category_id'],prefix=\"_ci\")"
   ]
  },
  {
   "cell_type": "code",
   "execution_count": 8,
   "metadata": {
    "collapsed": false
   },
   "outputs": [],
   "source": [
    "#topics = documents_topics.drop('topic_id',1).join(topic_dummies)\n",
    "categories = documents_categories.drop('category_id',1).join(categories_dummies)\n",
    "categories = categories.groupby(['document_id']).sum().reset_index()\n",
    "#topics = topics.groupby(['document_id']).sum().reset_index()\n",
    "del documents_categories, categories_dummies, # topic_dummies , documents_topics"
   ]
  },
  {
   "cell_type": "code",
   "execution_count": 9,
   "metadata": {
    "collapsed": false
   },
   "outputs": [],
   "source": [
    "#create promoted, promoted content (ad information) with its' categories and topics\n",
    "promoted_content.drop(promoted_content.columns[[2,3]],axis = 1,inplace=True)\n",
    "promoted = promoted_content.merge(categories, how='left', on='document_id').drop('document_id', axis=1)\n",
    "#promoted = promoted.merge(topics, how='left', on='document_id')\n",
    "del promoted_content\n",
    "#all Nulls are of documents with no topic or category, equals to 0\n",
    "promoted.fillna(0.0, inplace=True)"
   ]
  },
  {
   "cell_type": "code",
   "execution_count": 10,
   "metadata": {
    "collapsed": true
   },
   "outputs": [],
   "source": [
    "#get predictors, dummy chunk just for label names\n",
    "chunk = train[:10].merge(promoted,how = 'left',on = 'ad_id')\n",
    "chunk = chunk.merge(categories, how='left', on='document_id',suffixes=('_ad', '_doc'))\n",
    "#chunk = chunk.merge(topics, how='left', on='document_id',suffixes=('_ad', '_doc'))\n",
    "predictors=[x for x in chunk.columns if x not in ['display_id','ad_id','document_id','clicked']]"
   ]
  },
  {
   "cell_type": "code",
   "execution_count": null,
   "metadata": {
    "collapsed": false
   },
   "outputs": [
    {
     "name": "stdout",
     "output_type": "stream",
     "text": [
      "697\n"
     ]
    }
   ],
   "source": [
    "#number of iterations for training\n",
    "print train.shape[0]/10**5"
   ]
  },
  {
   "cell_type": "code",
   "execution_count": null,
   "metadata": {
    "collapsed": false,
    "scrolled": true
   },
   "outputs": [
    {
     "name": "stdout",
     "output_type": "stream",
     "text": [
      "1\n",
      "2\n",
      "3\n",
      "4\n",
      "5\n",
      "6\n",
      "7\n"
     ]
    }
   ],
   "source": [
    "#initiallize algorithm then fit it on chunks of size 10**5 - takes an hour or so \n",
    "#@@much more!, it's because the n_estimators +=3\n",
    "#might be a problem with the n_estimators growing constantly, \n",
    "#usually people stop the growing when the algorithm reaches good prediction\n",
    "alg = RandomForestClassifier(random_state=1, n_estimators=3, min_samples_split=4, min_samples_leaf=2, warm_start=True)\n",
    "i = 0\n",
    "k = 2\n",
    "for chunk in np.array_split(train, train.shape[0]/10**5):\n",
    "    alg.n_estimators += k\n",
    "    chunk = chunk.merge(promoted,how = 'left',on = 'ad_id')\n",
    "    chunk = chunk.merge(categories, how='left', on='document_id',suffixes=('_ad', '_doc'))\n",
    "    #chunk = chunk.merge(topics, how='left', on='document_id',suffixes=('_ad', '_doc'))\n",
    "    chunk.fillna(0.0, inplace=True)\n",
    "    alg.fit(chunk[predictors], chunk[\"clicked\"])\n",
    "    i += 1\n",
    "    if i % 50 == 0:\n",
    "        if i == 50:\n",
    "            k = 1\n",
    "        else:\n",
    "            k = 0\n",
    "    print i"
   ]
  },
  {
   "cell_type": "code",
   "execution_count": null,
   "metadata": {
    "collapsed": false
   },
   "outputs": [],
   "source": [
    "#save outputted tree with name [tree_name]\n",
    "tree_name = 'fourthTree_n_est_drop_no_topics'\n",
    "with open('/Users/astrachan/Desktop/outbrain/' + tree_name, 'wb') as f:\n",
    "    cPickle.dump(alg, f)"
   ]
  },
  {
   "cell_type": "code",
   "execution_count": 17,
   "metadata": {
    "collapsed": false
   },
   "outputs": [
    {
     "name": "stdout",
     "output_type": "stream",
     "text": [
      "174\n"
     ]
    }
   ],
   "source": [
    "#number of iterations for validating\n",
    "print (validation.shape[0]/10**5)"
   ]
  },
  {
   "cell_type": "code",
   "execution_count": null,
   "metadata": {
    "collapsed": false
   },
   "outputs": [
    {
     "name": "stdout",
     "output_type": "stream",
     "text": [
      "1\n",
      "2\n",
      "3\n",
      "4\n",
      "5\n",
      "6\n",
      "7\n",
      "8\n",
      "9\n",
      "10\n"
     ]
    }
   ],
   "source": [
    "#run outputted tree on chunks of size 10**5 of validation\n",
    "predY=[]\n",
    "i = 0\n",
    "for chunk in np.array_split(validation, validation.shape[0]/10**5):\n",
    "    chunk = chunk.merge(promoted,how = 'left',on = 'ad_id')\n",
    "    chunk = chunk.merge(categories, how='left', on='document_id',suffixes=('_ad', '_doc'))\n",
    "    #chunk = chunk.merge(topics, how='left', on='document_id',suffixes=('_ad', '_doc'))\n",
    "    chunk.fillna(0.0, inplace=True)\n",
    "    chunk_pred=list(alg.predict_proba(chunk[predictors]).astype(float)[:,1])\n",
    "    predY += chunk_pred\n",
    "    i += 1\n",
    "    print i"
   ]
  },
  {
   "cell_type": "code",
   "execution_count": null,
   "metadata": {
    "collapsed": false
   },
   "outputs": [],
   "source": [
    "predict = np.asarray(predY)\n",
    "val_copy = validation.copy()\n",
    "val_copy['predict'] = predict\n",
    "#delete predict? validation? chunk? chunk_pred? predictors? predY? bentaim lo"
   ]
  },
  {
   "cell_type": "code",
   "execution_count": null,
   "metadata": {
    "collapsed": true
   },
   "outputs": [],
   "source": [
    "#check how many of the predictions are true\n",
    "def true_and_true(row):\n",
    "    if (row['clicked'] == True) and (row['predict'] == 1.0):\n",
    "        return 1\n",
    "    else:\n",
    "        return 0\n",
    "val_copy['true_and_true'] = val_copy.apply(lambda row: true_and_true(row),axis=1)"
   ]
  },
  {
   "cell_type": "code",
   "execution_count": null,
   "metadata": {
    "collapsed": false
   },
   "outputs": [],
   "source": [
    "#function evaluating how far were you from predicting right\n",
    "val_copy.sort_values(['display_id', 'predict'], inplace=True, ascending=[True, False] )\n",
    "val_copy[\"seq\"] = np.arange(val_copy.shape[0])\n",
    "Y_seq = val_copy[val_copy.clicked == 1].seq.values\n",
    "Y_first = val_copy[['display_id', 'seq']].drop_duplicates(subset='display_id', keep='first').seq.values\n",
    "Y_ranks = Y_seq - Y_first\n",
    "score = np.mean(1.0 / (1.0 + Y_ranks))\n",
    "print(\"MAP: %.12f\" % score)"
   ]
  },
  {
   "cell_type": "code",
   "execution_count": null,
   "metadata": {
    "collapsed": true
   },
   "outputs": [],
   "source": [
    "#assemble test and predict using built tree\n",
    "test = p.read_csv(\"/Users/astrachan/Desktop/outbrain/clicks_test.csv\", dtype={\"display_id\": int, \"ad_id\": int, \"clicked\" : bool})\n",
    "events = p.read_csv(\"/Users/astrachan/Desktop/outbrain/events.csv\", dtype={\"display_id\": int, \"uuid\": str, \"document_id\" : int, \"timestamp\" : int, \"platform\" : str, \"geo_location\" : str})\n",
    "events.drop(events.columns[[1,3,4,5]],axis = 1,inplace=True)\n",
    "test = test.merge(events, how='left', on='display_id')\n",
    "del events"
   ]
  },
  {
   "cell_type": "code",
   "execution_count": null,
   "metadata": {
    "collapsed": false
   },
   "outputs": [],
   "source": [
    "#number of iterations for predicting\n",
    "test.shape[0]/10**5"
   ]
  },
  {
   "cell_type": "code",
   "execution_count": null,
   "metadata": {
    "collapsed": false
   },
   "outputs": [],
   "source": [
    "test.head()"
   ]
  },
  {
   "cell_type": "code",
   "execution_count": null,
   "metadata": {
    "collapsed": false
   },
   "outputs": [],
   "source": [
    "#predict\n",
    "predYtest=[]\n",
    "i = 0\n",
    "for chunk in np.array_split(test, test.shape[0]/10**5):\n",
    "    chunk = chunk.merge(promoted,how = 'left',on = 'ad_id')\n",
    "    chunk = chunk.merge(categories, how='left', on='document_id',suffixes=('_ad', '_doc'))\n",
    "    #chunk = chunk.merge(topics, how='left', on='document_id',suffixes=('_ad', '_doc'))\n",
    "    chunk.fillna(0.0, inplace=True)\n",
    "    chunk_pred=list(alg.predict_proba(chunk[predictors]).astype(float)[:,1])\n",
    "    predYtest += chunk_pred\n",
    "    i += 1\n",
    "    print i"
   ]
  },
  {
   "cell_type": "code",
   "execution_count": null,
   "metadata": {
    "collapsed": true
   },
   "outputs": [],
   "source": [
    "#make submission table, still needs to be tested\n",
    "results = concat((test,DataFrame(predY)) ,axis=1,ignore_index=True)\n",
    "results.columns = ['display_id','ad_id','clicked']\n",
    "results = results.sort_values(by=['display_id','clicked'], ascending=[True, False])\n",
    "results = results.reset_index(drop=True)\n",
    "results=results.groupby('display_id').ad_id.apply(lambda x: \" \".join(map(str,x))).reset_index()\n",
    "results.to_csv('random_forest_one_hot.csv', index=False)"
   ]
  },
  {
   "cell_type": "code",
   "execution_count": null,
   "metadata": {
    "collapsed": true
   },
   "outputs": [],
   "source": []
  }
 ],
 "metadata": {
  "anaconda-cloud": {},
  "kernelspec": {
   "display_name": "Python [default]",
   "language": "python",
   "name": "python2"
  },
  "language_info": {
   "codemirror_mode": {
    "name": "ipython",
    "version": 2
   },
   "file_extension": ".py",
   "mimetype": "text/x-python",
   "name": "python",
   "nbconvert_exporter": "python",
   "pygments_lexer": "ipython2",
   "version": "2.7.12"
  }
 },
 "nbformat": 4,
 "nbformat_minor": 1
}
