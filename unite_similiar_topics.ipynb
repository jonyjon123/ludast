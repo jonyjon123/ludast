{
 "cells": [
  {
   "cell_type": "code",
   "execution_count": 1,
   "metadata": {
    "collapsed": false
   },
   "outputs": [],
   "source": [
    "import numpy as np\n",
    "import pandas as p\n",
    "import pickle\n",
    "\n",
    "documents_topics = p.read_csv(\"/Users/astrachan/Desktop/outbrain/source_tables/documents_topics.csv\", dtype = {\"document_id\":int, \"category_id\":int, \"confidence_level\":float})\n",
    "promoted_content = p.read_csv(\"/Users/astrachan/Desktop/outbrain/source_tables/promoted_content.csv\", usecols = [\"ad_id\", \"document_id\"], dtype = {\"ad_id\":int, \"document_id\":int})\n",
    "ad_on_doc = p.read_csv(\"/Users/astrachan/Desktop/outbrain/output_tables/document_on_ad.csv\", usecols = [\"ad_id\", \"document_id\", \"score\"], dtype={\"document_id\": int, \"ad_id\":int, \"score\": float})\n",
    "#documents_categories = p.read_csv(\"/Users/astrachan/Desktop/outbrain/source_tables/documents_categories.csv\", dtype = {\"document_id\":int, \"category_id\":int, \"confidence_level\":float})\n",
    "#train = p.read_csv(\"/Users/astrachan/Desktop/outbrain/source_tables/train.csv\", usecols = [\"display_id\", \"ad_id\", \"clicked\"], dtype={\"display_id\": int, \"ad_id\": int, \"clicked\" : bool})\n",
    "#events = p.read_csv(\"/Users/astrachan/Desktop/outbrain/source_tables/events.csv\", usecols = [\"display_id\", \"document_id\"], dtype={\"display_id\": int, \"document_id\" : int})\n",
    "#train = train.merge(events, how = 'left', on = 'display_id')\n",
    "#del events"
   ]
  },
  {
   "cell_type": "code",
   "execution_count": 15,
   "metadata": {
    "collapsed": false
   },
   "outputs": [
    {
     "name": "stdout",
     "output_type": "stream",
     "text": [
      "topic ids precent: 1.0\n",
      "unique topic ids: 300\n"
     ]
    }
   ],
   "source": [
    "#remove topic ids below a certain confidence level and merge promoted with documents_topics_reduced\n",
    "confidence_cut = 0.1\n",
    "documents_topics_reduced = documents_topics[documents_topics['confidence_level'] > confidence_cut]\n",
    "print 'topic ids precent: ' + repr(float(len(documents_topics_reduced.topic_id.unique())) / len(documents_topics.topic_id.unique()))\n",
    "print 'unique topic ids: ' + repr(len(documents_topics_reduced.topic_id.unique()))\n",
    "promoted = promoted_content.merge(documents_topics_reduced, how='left', on='document_id').drop('document_id', axis=1)"
   ]
  },
  {
   "cell_type": "code",
   "execution_count": 16,
   "metadata": {
    "collapsed": false
   },
   "outputs": [
    {
     "name": "stdout",
     "output_type": "stream",
     "text": [
      "(26891, 3)\n",
      "precentage taken: 0.0009999866499867114\n",
      "minimal score taken: 2.6709886333299999\n"
     ]
    }
   ],
   "source": [
    "#take only highest scored ad_on_doc\n",
    "score_cut = 1000 #which portion of top scores to take\n",
    "ad_on_doc_reduced = ad_on_doc[:ad_on_doc.shape[0] / score_cut]\n",
    "print ad_on_doc_reduced.shape\n",
    "print 'precentage taken: ' + repr(float(ad_on_doc_reduced.shape[0]) / ad_on_doc.shape[0])\n",
    "print 'minimal score taken: ' + repr(ad_on_doc_reduced.score.min())"
   ]
  },
  {
   "cell_type": "code",
   "execution_count": 17,
   "metadata": {
    "collapsed": false
   },
   "outputs": [],
   "source": [
    "#merge with topic ids of doc and ad\n",
    "ad_on_doc_reduced = ad_on_doc_reduced.merge(documents_topics_reduced, how='left', on='document_id')\n",
    "ad_on_doc_reduced = ad_on_doc_reduced.merge(promoted, how='left', on='ad_id', suffixes=('_doc','_ad'))"
   ]
  },
  {
   "cell_type": "code",
   "execution_count": 18,
   "metadata": {
    "collapsed": false
   },
   "outputs": [],
   "source": [
    "#drop lines with NA and lines with same topic on both ad and doc, remove confidence, ad_id and doc_id columns\n",
    "ad_on_doc_reduced = ad_on_doc_reduced.dropna()\n",
    "#ad_on_doc_reduced = ad_on_doc_reduced[ad_on_doc_reduced.topic_id_ad != ad_on_doc_reduced.topic_id_doc]\n",
    "ad_on_doc_reduced.drop(ad_on_doc_reduced.columns[[0,1,4,6]],axis = 1,inplace=True)\n",
    "ad_on_doc_reduced.reset_index(drop=True, inplace=True)"
   ]
  },
  {
   "cell_type": "code",
   "execution_count": 19,
   "metadata": {
    "collapsed": false
   },
   "outputs": [
    {
     "name": "stdout",
     "output_type": "stream",
     "text": [
      "(13024, 3)\n",
      "294\n",
      "267\n"
     ]
    }
   ],
   "source": [
    "print ad_on_doc_reduced.shape\n",
    "print len(ad_on_doc_reduced.topic_id_doc.unique())\n",
    "print len(ad_on_doc_reduced.topic_id_ad.unique())"
   ]
  },
  {
   "cell_type": "code",
   "execution_count": 20,
   "metadata": {
    "collapsed": false
   },
   "outputs": [
    {
     "data": {
      "text/html": [
       "<div>\n",
       "<table border=\"1\" class=\"dataframe\">\n",
       "  <thead>\n",
       "    <tr style=\"text-align: right;\">\n",
       "      <th></th>\n",
       "      <th>score</th>\n",
       "      <th>topic_id_doc</th>\n",
       "      <th>topic_id_ad</th>\n",
       "    </tr>\n",
       "  </thead>\n",
       "  <tbody>\n",
       "    <tr>\n",
       "      <th>0</th>\n",
       "      <td>7.189740</td>\n",
       "      <td>287.0</td>\n",
       "      <td>93.0</td>\n",
       "    </tr>\n",
       "    <tr>\n",
       "      <th>1</th>\n",
       "      <td>6.974017</td>\n",
       "      <td>287.0</td>\n",
       "      <td>93.0</td>\n",
       "    </tr>\n",
       "    <tr>\n",
       "      <th>2</th>\n",
       "      <td>6.481424</td>\n",
       "      <td>287.0</td>\n",
       "      <td>93.0</td>\n",
       "    </tr>\n",
       "    <tr>\n",
       "      <th>3</th>\n",
       "      <td>6.466359</td>\n",
       "      <td>287.0</td>\n",
       "      <td>93.0</td>\n",
       "    </tr>\n",
       "    <tr>\n",
       "      <th>4</th>\n",
       "      <td>6.352153</td>\n",
       "      <td>234.0</td>\n",
       "      <td>140.0</td>\n",
       "    </tr>\n",
       "  </tbody>\n",
       "</table>\n",
       "</div>"
      ],
      "text/plain": [
       "      score  topic_id_doc  topic_id_ad\n",
       "0  7.189740         287.0         93.0\n",
       "1  6.974017         287.0         93.0\n",
       "2  6.481424         287.0         93.0\n",
       "3  6.466359         287.0         93.0\n",
       "4  6.352153         234.0        140.0"
      ]
     },
     "execution_count": 20,
     "metadata": {},
     "output_type": "execute_result"
    }
   ],
   "source": [
    "ad_on_doc_reduced.head()\n",
    "#consider using scores for calculating correlation later"
   ]
  },
  {
   "cell_type": "code",
   "execution_count": 21,
   "metadata": {
    "collapsed": false
   },
   "outputs": [],
   "source": [
    "#put lower topic_id of both on left side\n",
    "for i, row in enumerate(ad_on_doc_reduced.itertuples()):\n",
    "    if row.topic_id_doc > row.topic_id_ad:\n",
    "        ad = row.topic_id_ad\n",
    "        doc = row.topic_id_doc\n",
    "        ad_on_doc_reduced.set_value(i,'topic_id_doc', ad)\n",
    "        ad_on_doc_reduced.set_value(i,'topic_id_ad', doc)\n",
    "ad_on_doc_reduced.rename(columns={'topic_id_doc' : 'topic_id_l', 'topic_id_ad' : 'topic_id_r'},inplace=True)"
   ]
  },
  {
   "cell_type": "code",
   "execution_count": 22,
   "metadata": {
    "collapsed": false
   },
   "outputs": [
    {
     "name": "stdout",
     "output_type": "stream",
     "text": [
      "    topic_id_l  topic_id_r  count  mean_score\n",
      "1          0.0         8.0      2    4.531819\n",
      "3          0.0        11.0      1    3.828862\n",
      "5          0.0        16.0      4    3.157450\n",
      "7          0.0        21.0      1    3.519646\n",
      "12         0.0        43.0      2    3.248118\n",
      "243\n",
      "238\n",
      "3.08418257513\n",
      "5.55405599232\n"
     ]
    }
   ],
   "source": [
    "#count how many times each pair shows, and reduce by number of shows\n",
    "#keep top 20% score even if count is 1\n",
    "high_score = ad_on_doc_reduced.score.quantile(q=0.8, interpolation='higher')\n",
    "ad_doc_count = ad_on_doc_reduced.groupby(['topic_id_l','topic_id_r']).score.agg({'mean_score' : 'mean', 'count' : 'count'}).reset_index()\n",
    "ad_doc_count = ad_doc_count[(ad_doc_count['count'] > 1) | (ad_doc_count['mean_score'] > high_score)]\n",
    "print ad_doc_count.head()\n",
    "print len(ad_doc_count.topic_id_l.unique())\n",
    "print len(ad_doc_count.topic_id_r.unique())\n",
    "print ad_doc_count.mean_score.mean()\n",
    "print ad_doc_count.mean_score.max()"
   ]
  },
  {
   "cell_type": "code",
   "execution_count": 23,
   "metadata": {
    "collapsed": true
   },
   "outputs": [],
   "source": [
    "#create a dictionary, for each tuple (x_topic,y_topic) where x_topic < y_topic return the mean_score\n",
    "dict_topic = {}\n",
    "for row in ad_doc_count.itertuples():\n",
    "    key = (row.topic_id_l,row.topic_id_r)\n",
    "    score = row.mean_score\n",
    "    dict_topic[key] = score"
   ]
  },
  {
   "cell_type": "code",
   "execution_count": 26,
   "metadata": {
    "collapsed": false
   },
   "outputs": [],
   "source": [
    "#save dictionary to file\n",
    "output = open('/Users/astrachan/Desktop/outbrain/dicts/dict_topic_' + repr(confidence_cut) + '_' + repr(score_cut), 'ab+')\n",
    "pickle.dump(dict_topic, output)\n",
    "output.close()"
   ]
  },
  {
   "cell_type": "code",
   "execution_count": 24,
   "metadata": {
    "collapsed": false
   },
   "outputs": [
    {
     "name": "stdout",
     "output_type": "stream",
     "text": [
      "     topic_id_l  count\n",
      "127       140.0     94\n",
      "16         16.0     93\n",
      "62         66.0     77\n",
      "79         85.0     72\n",
      "42         43.0     71\n",
      "145       160.0     70\n",
      "86         93.0     64\n",
      "119       131.0     56\n",
      "95        102.0     49\n",
      "50         52.0     43\n",
      "     topic_id_r  count\n",
      "111       160.0     75\n",
      "92        140.0     68\n",
      "147       198.0     65\n",
      "133       184.0     64\n",
      "196       252.0     61\n",
      "148       199.0     58\n",
      "234       296.0     56\n",
      "222       283.0     50\n",
      "202       259.0     47\n",
      "201       258.0     47\n",
      "    topic_id  count\n",
      "0      140.0  162.0\n",
      "5      160.0  145.0\n",
      "3       85.0  102.0\n",
      "15     198.0  102.0\n",
      "14     184.0  101.0\n",
      "1       16.0  101.0\n",
      "2       66.0   97.0\n",
      "6       93.0   95.0\n",
      "7      131.0   84.0\n",
      "4       43.0   82.0\n",
      "(280, 2)\n"
     ]
    }
   ],
   "source": [
    "#check topics that 'sleep arround' with all other topics, they make it so we have very few sets\n",
    "#eventually didn't use, also the rest of the code\n",
    "reduce_dominants_left = ad_doc_count.groupby('topic_id_l').topic_id_r.count().reset_index(name = 'count')\n",
    "reduce_dominants_left.sort_values('count',inplace=True,ascending=False)\n",
    "reduce_dominants_right = ad_doc_count.groupby('topic_id_r').topic_id_l.count().reset_index(name = 'count')\n",
    "reduce_dominants_right.sort_values('count',inplace=True,ascending=False)\n",
    "#arrange to one reduce_dominants table\n",
    "print reduce_dominants_left.head(10)\n",
    "print reduce_dominants_right.head(10)\n",
    "reduce_dominants_left.rename(columns={'topic_id_l' : 'topic_id'},inplace=True)\n",
    "reduce_dominants_right.rename(columns={'topic_id_r' : 'topic_id'},inplace=True)\n",
    "reduce_dominants = p.merge(reduce_dominants_left,reduce_dominants_right,how='outer',on='topic_id')\n",
    "reduce_dominants['count'] = reduce_dominants.count_x + reduce_dominants.count_y\n",
    "reduce_dominants.drop(reduce_dominants.columns[[1,2]],axis = 1,inplace=True)\n",
    "reduce_dominants.sort_values(by = 'count',inplace=True,ascending=False)\n",
    "print reduce_dominants.head(10)\n",
    "print reduce_dominants.shape"
   ]
  },
  {
   "cell_type": "code",
   "execution_count": 902,
   "metadata": {
    "collapsed": true
   },
   "outputs": [],
   "source": [
    "dict_topic = {}\n",
    "for i, row in enumerate(ad_doc_count.itertuples()):\n",
    "    key = row.topic_id_l\n",
    "    item = row.topic_id_r\n",
    "    if key not in dict_topic:\n",
    "        dict_topic[key] = set([item,key])\n",
    "    else:\n",
    "        dict_topic[key] = dict_topic[key] | set([item])"
   ]
  },
  {
   "cell_type": "code",
   "execution_count": 903,
   "metadata": {
    "collapsed": false
   },
   "outputs": [
    {
     "name": "stdout",
     "output_type": "stream",
     "text": [
      "134\n",
      "set([16.0, 0.0, 259.0, 68.0, 288.0, 175.0])\n",
      "set([160.0, 1.0])\n",
      "set([127.0, 184.0, 3.0, 93.0, 183.0])\n",
      "set([160.0, 240.0, 66.0, 4.0, 184.0, 140.0, 127.0])\n",
      "set([184.0, 6.0])\n",
      "set([160.0, 8.0])\n",
      "set([131.0, 198.0, 227.0, 10.0, 140.0, 270.0])\n",
      "set([16.0, 11.0, 18.0, 51.0, 289.0])\n",
      "set([259.0, 12.0])\n",
      "set([250.0, 13.0])\n",
      "set([160.0, 140.0, 198.0, 15.0])\n",
      "set([66.0, 131.0, 198.0, 136.0, 140.0, 16.0, 148.0, 277.0, 36.0, 154.0, 175.0, 26.0, 95.0, 160.0, 97.0, 283.0, 164.0, 229.0, 102.0, 234.0, 255.0, 46.0, 93.0, 250.0, 127.0, 252.0, 21.0])\n",
      "set([17.0, 132.0, 271.0])\n",
      "set([18.0, 51.0])\n",
      "set([296.0, 19.0])\n",
      "set([97.0, 66.0, 20.0, 102.0, 184.0, 156.0])\n",
      "set([160.0, 184.0, 259.0, 21.0, 183.0])\n",
      "set([296.0, 227.0, 24.0, 105.0, 107.0, 156.0, 271.0])\n",
      "set([64.0, 130.0, 198.0, 262.0, 107.0, 147.0, 26.0, 283.0, 156.0])\n",
      "set([160.0, 28.0])\n",
      "set([156.0, 140.0, 30.0])\n",
      "set([160.0, 33.0, 140.0])\n",
      "set([160.0, 66.0, 227.0, 36.0, 198.0, 103.0, 232.0, 140.0, 183.0, 287.0, 252.0, 93.0, 127.0])\n",
      "set([160.0, 140.0, 69.0, 37.0])\n",
      "set([232.0, 102.0, 38.0])\n",
      "set([160.0, 41.0, 184.0, 156.0, 102.0])\n",
      "set([160.0, 42.0])\n",
      "set([66.0, 199.0, 201.0, 140.0, 141.0, 271.0, 81.0, 85.0, 249.0, 156.0, 160.0, 97.0, 234.0, 43.0, 177.0, 184.0, 185.0, 252.0])\n",
      "set([160.0, 66.0, 44.0])\n",
      "set([184.0, 140.0, 52.0, 45.0, 201.0])\n",
      "set([160.0, 66.0, 131.0, 201.0, 107.0, 46.0, 259.0, 183.0, 184.0])\n",
      "set([198.0, 47.0])\n",
      "set([48.0, 160.0, 184.0, 127.0])\n",
      "set([51.0, 52.0, 277.0, 184.0, 140.0, 127.0])\n",
      "set([150.0, 103.0, 137.0, 199.0, 140.0, 270.0, 175.0, 240.0, 145.0, 52.0, 214.0, 183.0, 184.0, 156.0, 124.0, 229.0])\n",
      "set([66.0, 259.0, 198.0, 54.0, 183.0, 184.0])\n",
      "set([66.0, 156.0, 55.0])\n",
      "set([160.0, 61.0])\n",
      "set([64.0, 170.0, 156.0])\n",
      "set([288.0, 65.0])\n",
      "set([288.0, 66.0, 259.0, 197.0, 198.0, 199.0, 201.0, 74.0, 140.0, 258.0, 270.0, 214.0, 156.0, 165.0, 160.0, 229.0, 232.0, 124.0, 107.0, 238.0, 253.0, 204.0, 182.0, 183.0, 184.0, 250.0, 252.0, 125.0, 127.0])\n",
      "set([287.0, 67.0, 271.0])\n",
      "set([160.0, 68.0, 102.0, 70.0, 199.0, 263.0, 140.0, 142.0, 184.0, 100.0, 293.0, 124.0, 229.0])\n",
      "set([184.0, 69.0])\n",
      "set([283.0, 70.0])\n",
      "set([73.0, 292.0, 102.0, 145.0])\n",
      "set([160.0, 105.0, 74.0, 140.0, 201.0])\n",
      "set([296.0, 156.0, 232.0, 140.0, 75.0, 204.0, 94.0])\n",
      "set([80.0, 292.0, 102.0, 103.0, 232.0, 140.0])\n",
      "set([145.0, 232.0, 170.0, 295.0, 81.0, 214.0, 249.0, 219.0, 93.0])\n",
      "set([184.0, 83.0])\n",
      "set([147.0, 84.0, 102.0, 184.0, 156.0, 271.0])\n",
      "set([160.0, 131.0, 107.0, 140.0, 238.0, 271.0, 241.0, 85.0, 184.0])\n",
      "set([296.0, 88.0])\n",
      "set([131.0, 260.0, 198.0, 292.0, 89.0, 140.0])\n",
      "set([130.0, 131.0, 198.0, 140.0, 258.0, 143.0, 271.0, 156.0, 93.0, 287.0, 160.0, 102.0, 237.0, 183.0, 248.0, 250.0, 125.0, 127.0])\n",
      "set([156.0, 94.0])\n",
      "set([283.0, 95.0, 101.0, 271.0])\n",
      "set([184.0, 96.0])\n",
      "set([160.0, 97.0, 165.0, 232.0, 170.0, 107.0, 269.0])\n",
      "set([184.0, 101.0])\n",
      "set([160.0, 130.0, 102.0, 232.0, 140.0, 204.0, 142.0, 147.0, 283.0, 156.0, 287.0])\n",
      "set([229.0, 103.0, 199.0, 140.0, 141.0, 145.0, 183.0, 184.0, 252.0, 127.0])\n",
      "set([160.0, 105.0, 258.0, 227.0])\n",
      "set([232.0, 156.0, 250.0, 107.0, 236.0, 125.0, 271.0])\n",
      "set([160.0, 108.0, 140.0, 183.0])\n",
      "set([111.0, 127.0])\n",
      "set([160.0, 112.0])\n",
      "set([160.0, 115.0])\n",
      "set([116.0, 198.0])\n",
      "set([296.0, 117.0])\n",
      "set([184.0, 118.0, 287.0])\n",
      "set([160.0, 207.0, 119.0])\n",
      "set([122.0, 156.0])\n",
      "set([160.0, 140.0, 124.0])\n",
      "set([160.0, 229.0, 145.0, 140.0, 269.0, 175.0, 241.0, 183.0, 250.0, 271.0, 252.0, 125.0])\n",
      "set([256.0, 198.0, 199.0, 136.0, 137.0, 140.0, 141.0, 270.0, 205.0, 145.0, 284.0, 157.0, 222.0, 227.0, 164.0, 169.0, 183.0, 184.0, 252.0, 127.0])\n",
      "set([160.0, 128.0])\n",
      "set([130.0, 147.0, 204.0, 198.0, 140.0, 156.0])\n",
      "set([258.0, 131.0, 260.0, 261.0, 198.0, 263.0, 136.0, 138.0, 140.0, 271.0, 145.0, 156.0, 285.0, 160.0, 292.0, 296.0, 234.0, 238.0, 250.0, 252.0])\n",
      "set([160.0, 184.0, 198.0, 199.0, 136.0, 265.0, 234.0, 283.0])\n",
      "set([184.0, 137.0, 234.0, 140.0, 240.0])\n",
      "set([204.0, 138.0, 156.0])\n",
      "set([258.0, 259.0, 260.0, 265.0, 266.0, 267.0, 140.0, 141.0, 270.0, 271.0, 144.0, 145.0, 147.0, 277.0, 150.0, 279.0, 283.0, 156.0, 287.0, 160.0, 292.0, 169.0, 175.0, 177.0, 183.0, 184.0, 185.0, 187.0, 198.0, 199.0, 201.0, 204.0, 269.0, 214.0, 215.0, 227.0, 229.0, 232.0, 234.0, 284.0, 237.0, 238.0, 240.0, 248.0, 250.0, 252.0, 253.0, 255.0])\n",
      "set([184.0, 169.0, 141.0, 229.0])\n",
      "set([156.0, 142.0])\n",
      "set([144.0, 156.0])\n",
      "set([160.0, 145.0, 259.0, 265.0, 238.0, 239.0])\n",
      "set([147.0, 156.0])\n",
      "set([184.0, 151.0])\n",
      "set([160.0, 184.0, 154.0, 259.0, 183.0])\n",
      "set([160.0, 198.0, 167.0, 232.0, 156.0, 170.0, 174.0, 296.0, 212.0, 249.0, 252.0, 189.0])\n",
      "set([258.0, 259.0, 260.0, 263.0, 265.0, 267.0, 269.0, 271.0, 275.0, 279.0, 285.0, 160.0, 290.0, 165.0, 167.0, 296.0, 169.0, 299.0, 183.0, 184.0, 188.0, 193.0, 198.0, 199.0, 201.0, 203.0, 204.0, 211.0, 214.0, 216.0, 222.0, 227.0, 229.0, 232.0, 241.0, 252.0, 255.0])\n",
      "set([170.0, 165.0])\n",
      "set([258.0, 167.0])\n",
      "set([168.0, 169.0])\n",
      "set([170.0, 219.0, 285.0, 238.0])\n",
      "set([198.0, 184.0, 299.0, 285.0, 238.0, 175.0])\n",
      "set([177.0, 229.0, 183.0])\n",
      "set([289.0, 259.0, 198.0, 199.0, 266.0, 240.0, 183.0, 184.0, 185.0, 283.0, 252.0])\n",
      "set([259.0, 198.0, 199.0, 202.0, 205.0, 275.0, 283.0, 284.0, 222.0, 227.0, 229.0, 295.0, 232.0, 239.0, 240.0, 296.0, 184.0, 185.0, 252.0, 255.0])\n",
      "set([185.0, 199.0])\n",
      "set([186.0, 187.0])\n",
      "set([188.0, 229.0])\n",
      "set([232.0, 193.0, 259.0, 296.0])\n",
      "set([258.0, 259.0, 229.0, 198.0, 296.0, 234.0, 269.0, 270.0, 271.0, 240.0, 214.0, 250.0, 252.0, 255.0])\n",
      "set([259.0, 227.0, 199.0])\n",
      "set([232.0, 200.0])\n",
      "set([201.0, 252.0, 263.0])\n",
      "set([249.0, 203.0, 269.0])\n",
      "set([232.0, 276.0, 204.0])\n",
      "set([208.0, 285.0])\n",
      "set([259.0, 211.0])\n",
      "set([259.0, 238.0, 214.0])\n",
      "set([232.0, 270.0, 215.0])\n",
      "set([216.0, 227.0])\n",
      "set([219.0, 238.0])\n",
      "set([260.0, 221.0])\n",
      "set([249.0, 227.0])\n",
      "set([296.0, 250.0, 229.0, 261.0])\n",
      "set([232.0, 249.0, 290.0, 283.0, 252.0])\n",
      "set([234.0, 283.0, 252.0])\n",
      "set([296.0, 249.0, 250.0, 238.0, 295.0])\n",
      "set([240.0, 266.0])\n",
      "set([241.0, 259.0])\n",
      "set([249.0, 269.0])\n",
      "set([271.0, 283.0, 259.0, 252.0, 279.0])\n",
      "set([296.0, 255.0])\n",
      "set([258.0, 259.0, 260.0, 296.0, 270.0, 271.0])\n",
      "set([259.0, 295.0])\n",
      "set([288.0, 290.0, 269.0])\n",
      "set([283.0, 292.0, 271.0])\n",
      "set([296.0, 285.0])\n",
      "set([296.0, 292.0])\n"
     ]
    }
   ],
   "source": [
    "print len(dict_topic)\n",
    "for x in dict_topic:\n",
    "    print dict_topic[x]"
   ]
  },
  {
   "cell_type": "code",
   "execution_count": 904,
   "metadata": {
    "collapsed": true
   },
   "outputs": [],
   "source": [
    "k = 1\n",
    "\n",
    "while (k !=0):\n",
    "    t = 1\n",
    "    for x in dict_topic:\n",
    "        for y in dict_topic:\n",
    "            if x != y:\n",
    "                if ((dict_topic[x] & dict_topic[y]) != set([])):\n",
    "                    dict_topic[x] = dict_topic[x] | dict_topic[y]\n",
    "                    dict_topic.pop(y)\n",
    "                    t = 0\n",
    "                    break\n",
    "        if t == 0:\n",
    "            break\n",
    "    if t != 0:\n",
    "        k = 0"
   ]
  },
  {
   "cell_type": "code",
   "execution_count": 905,
   "metadata": {
    "collapsed": false
   },
   "outputs": [
    {
     "name": "stdout",
     "output_type": "stream",
     "text": [
      "1\n"
     ]
    }
   ],
   "source": [
    "print len(dict_topic)"
   ]
  },
  {
   "cell_type": "code",
   "execution_count": 906,
   "metadata": {
    "collapsed": false
   },
   "outputs": [
    {
     "name": "stdout",
     "output_type": "stream",
     "text": [
      "set([0.0, 1.0, 3.0, 4.0, 6.0, 8.0, 10.0, 11.0, 12.0, 13.0, 15.0, 16.0, 17.0, 18.0, 19.0, 20.0, 21.0, 24.0, 26.0, 28.0, 30.0, 33.0, 36.0, 37.0, 38.0, 41.0, 42.0, 43.0, 44.0, 45.0, 46.0, 47.0, 48.0, 51.0, 52.0, 54.0, 55.0, 61.0, 64.0, 65.0, 66.0, 67.0, 68.0, 69.0, 70.0, 73.0, 74.0, 75.0, 80.0, 81.0, 83.0, 84.0, 85.0, 88.0, 89.0, 93.0, 94.0, 95.0, 96.0, 97.0, 100.0, 101.0, 102.0, 103.0, 105.0, 107.0, 108.0, 111.0, 112.0, 115.0, 116.0, 117.0, 118.0, 119.0, 122.0, 124.0, 125.0, 127.0, 128.0, 130.0, 131.0, 132.0, 136.0, 137.0, 138.0, 140.0, 141.0, 142.0, 143.0, 144.0, 145.0, 147.0, 148.0, 150.0, 151.0, 154.0, 156.0, 157.0, 160.0, 164.0, 165.0, 167.0, 168.0, 169.0, 170.0, 174.0, 175.0, 177.0, 182.0, 183.0, 184.0, 185.0, 186.0, 187.0, 188.0, 189.0, 193.0, 197.0, 198.0, 199.0, 200.0, 201.0, 202.0, 203.0, 204.0, 205.0, 207.0, 208.0, 211.0, 212.0, 214.0, 215.0, 216.0, 219.0, 221.0, 222.0, 227.0, 229.0, 232.0, 234.0, 236.0, 237.0, 238.0, 239.0, 240.0, 241.0, 248.0, 249.0, 250.0, 252.0, 253.0, 255.0, 256.0, 258.0, 259.0, 260.0, 261.0, 262.0, 263.0, 265.0, 266.0, 267.0, 269.0, 270.0, 271.0, 275.0, 276.0, 277.0, 279.0, 283.0, 284.0, 285.0, 287.0, 288.0, 289.0, 290.0, 292.0, 293.0, 295.0, 296.0, 299.0])\n"
     ]
    }
   ],
   "source": [
    "for x in dict_topic:\n",
    "    print dict_topic[x]"
   ]
  }
 ],
 "metadata": {
  "anaconda-cloud": {},
  "kernelspec": {
   "display_name": "Python [default]",
   "language": "python",
   "name": "python2"
  },
  "language_info": {
   "codemirror_mode": {
    "name": "ipython",
    "version": 2
   },
   "file_extension": ".py",
   "mimetype": "text/x-python",
   "name": "python",
   "nbconvert_exporter": "python",
   "pygments_lexer": "ipython2",
   "version": "2.7.12"
  }
 },
 "nbformat": 4,
 "nbformat_minor": 1
}
