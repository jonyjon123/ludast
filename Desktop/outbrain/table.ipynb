{
 "cells": [
  {
   "cell_type": "code",
   "execution_count": 2,
   "metadata": {
    "collapsed": false
   },
   "outputs": [],
   "source": [
    "import numpy as np\n",
    "import pandas as p\n",
    "\n",
    "documents_categories = p.read_csv(\"/Users/astrachan/Desktop/outbrain/documents_categories.csv\")\n",
    "#clicks_test = p.read_csv(\"/Users/astrachan/Desktop/outbrain/clicks_test.csv\")\n",
    "#documents_meta = p.read_csv(\"/Users/astrachan/Desktop/outbrain/documents_meta.csv\")\n",
    "documents_entities = p.read_csv(\"/Users/astrachan/Desktop/outbrain/documents_entities.csv\")\n",
    "promoted_content = p.read_csv(\"/Users/astrachan/Desktop/outbrain/promoted_content.csv\")\n",
    "#sample_submission = p.read_csv(\"/Users/astrachan/Desktop/outbrain/sample_submission.csv\")\n",
    "documents_topics = p.read_csv(\"/Users/astrachan/Desktop/outbrain/documents_topics.csv\")\n",
    "clicks_train = p.read_csv(\"/Users/astrachan/Desktop/outbrain/clicks_train.csv\", dtype={\"display_id\": int, \"ad_id\": int, \"clicked\" : bool})\n",
    "events = p.read_csv(\"/Users/astrachan/Desktop/outbrain/events.csv\", dtype={\"display_id\": int, \"uuid\": str, \"document_id\" : int, \"timestamp\" : int, \"platform\" : object, \"geo_location\" : str})\n",
    "#page_views = p.read_csv(\"/Users/astrachan/Desktop/outbrain/page_views.csv\")\n",
    "#page_views_sample = p.read_csv(\"/Users/astrachan/Desktop/outbrain/page_views_sample.csv\")"
   ]
  },
  {
   "cell_type": "code",
   "execution_count": 107,
   "metadata": {
    "collapsed": false
   },
   "outputs": [
    {
     "name": "stdout",
     "output_type": "stream",
     "text": [
      "   display_id   ad_id clicked  ads_on_display  document_id  timestamp  \\\n",
      "0           1   42337   False               6       379743         61   \n",
      "1           1  139684   False               6       379743         61   \n",
      "2           1  144739    True               6       379743         61   \n",
      "3           1  156824   False               6       379743         61   \n",
      "4           1  279295   False               6       379743         61   \n",
      "\n",
      "  platform geo_location  \n",
      "0        3    US>SC>519  \n",
      "1        3    US>SC>519  \n",
      "2        3    US>SC>519  \n",
      "3        3    US>SC>519  \n",
      "4        3    US>SC>519  \n"
     ]
    }
   ],
   "source": [
    "print clicks_train.head()"
   ]
  },
  {
   "cell_type": "code",
   "execution_count": 28,
   "metadata": {
    "collapsed": false
   },
   "outputs": [],
   "source": [
    "#add total ads on display\n",
    "clicks_train = clicks_train.merge(clicks_train.groupby(['display_id'])['display_id']\\\n",
    "                                  .agg({'t_ads':'count'}).reset_index(), how='left')"
   ]
  },
  {
   "cell_type": "code",
   "execution_count": 43,
   "metadata": {
    "collapsed": false
   },
   "outputs": [],
   "source": [
    "clicks_train = clicks_train.merge(events.drop('uuid', 1), how='left', on='display_id')"
   ]
  },
  {
   "cell_type": "code",
   "execution_count": 108,
   "metadata": {
    "collapsed": false
   },
   "outputs": [
    {
     "name": "stdout",
     "output_type": "stream",
     "text": [
      "   display_id            uuid  document_id  timestamp platform geo_location\n",
      "0           1  cb8c55702adb93       379743         61        3    US>SC>519\n",
      "1           2  79a85fa78311b9      1794259         81        2    US>CA>807\n",
      "2           3  822932ce3d8757      1179111        182        2    US>MI>505\n",
      "3           4  85281d0a49f7ac      1777797        234        2    US>WV>564\n",
      "4           5  8d0daef4bf5b56       252458        338        2        SG>00\n",
      "   ad_id  document_id  campaign_id  advertiser_id  confidence_level  \\\n",
      "0      1         6614            1              7          0.925264   \n",
      "1      2       471467            2              7          0.920000   \n",
      "2      3         7692            3              7          0.920000   \n",
      "3      4       471471            2              7          0.920000   \n",
      "4      5       471472            2              7          0.920000   \n",
      "\n",
      "   category_id  \n",
      "0       1209.0  \n",
      "1       1505.0  \n",
      "2       1209.0  \n",
      "3       1205.0  \n",
      "4       1608.0  \n",
      "   document_id                         entity_id  confidence_level\n",
      "0      1524246  f9eec25663db4cd83183f5c805186f16          0.672865\n",
      "1      1524246  55ebcfbdaff1d6f60b3907151f38527a          0.399114\n",
      "2      1524246  839907a972930b17b125eb0247898412          0.392096\n",
      "3      1524246  04d8f9a1ad48f126d5806a9236872604          0.213996\n",
      "4      1617787  612a1d17685a498aff4f036c1ee02c16          0.386193\n",
      "   document_id  confidence_level  category_id\n",
      "0            1          0.471220         1706\n",
      "1            2          0.600000         1705\n",
      "2            3          0.522837         2003\n",
      "3            4          0.920000         2003\n",
      "4            5          0.920000         2006\n",
      "   document_id  topic_id  confidence_level\n",
      "0      1595802       140          0.073113\n",
      "1      1595802        16          0.059416\n",
      "2      1595802       143          0.045421\n",
      "3      1595802       170          0.038867\n",
      "4      1524246       113          0.196450\n"
     ]
    }
   ],
   "source": [
    "print events.head()\n",
    "print promoted_content.head()\n",
    "print documents_entities.head()\n",
    "print documents_categories.head()\n",
    "print documents_topics.head()"
   ]
  },
  {
   "cell_type": "code",
   "execution_count": 57,
   "metadata": {
    "collapsed": true
   },
   "outputs": [],
   "source": [
    "categories_high_confidence = documents_categories.groupby(['document_id']).confidence_level.max().reset_index()"
   ]
  },
  {
   "cell_type": "code",
   "execution_count": 95,
   "metadata": {
    "collapsed": false
   },
   "outputs": [],
   "source": [
    "#take only highest confidence leveled category\n",
    "documents_categories = documents_categories.merge(categories_high_confidence,how = 'right',\\\n",
    "                                    on = ['document_id', 'confidence_level'])\\\n",
    "                                    .groupby(['document_id','confidence_level']).category_id.max().reset_index()\n",
    "del categories_high_confidence"
   ]
  },
  {
   "cell_type": "code",
   "execution_count": 99,
   "metadata": {
    "collapsed": false
   },
   "outputs": [],
   "source": [
    "promoted_content = promoted_content.merge(documents_categories, how='left', on='document_id')"
   ]
  },
  {
   "cell_type": "code",
   "execution_count": 106,
   "metadata": {
    "collapsed": false
   },
   "outputs": [
    {
     "data": {
      "text/html": [
       "<div>\n",
       "<table border=\"1\" class=\"dataframe\">\n",
       "  <thead>\n",
       "    <tr style=\"text-align: right;\">\n",
       "      <th></th>\n",
       "      <th>ad_id</th>\n",
       "      <th>document_id</th>\n",
       "      <th>campaign_id</th>\n",
       "      <th>advertiser_id</th>\n",
       "      <th>confidence_level</th>\n",
       "      <th>category_id</th>\n",
       "    </tr>\n",
       "  </thead>\n",
       "  <tbody>\n",
       "    <tr>\n",
       "      <th>0</th>\n",
       "      <td>1</td>\n",
       "      <td>6614</td>\n",
       "      <td>1</td>\n",
       "      <td>7</td>\n",
       "      <td>0.925264</td>\n",
       "      <td>1209.0</td>\n",
       "    </tr>\n",
       "    <tr>\n",
       "      <th>1</th>\n",
       "      <td>2</td>\n",
       "      <td>471467</td>\n",
       "      <td>2</td>\n",
       "      <td>7</td>\n",
       "      <td>0.920000</td>\n",
       "      <td>1505.0</td>\n",
       "    </tr>\n",
       "    <tr>\n",
       "      <th>2</th>\n",
       "      <td>3</td>\n",
       "      <td>7692</td>\n",
       "      <td>3</td>\n",
       "      <td>7</td>\n",
       "      <td>0.920000</td>\n",
       "      <td>1209.0</td>\n",
       "    </tr>\n",
       "    <tr>\n",
       "      <th>3</th>\n",
       "      <td>4</td>\n",
       "      <td>471471</td>\n",
       "      <td>2</td>\n",
       "      <td>7</td>\n",
       "      <td>0.920000</td>\n",
       "      <td>1205.0</td>\n",
       "    </tr>\n",
       "    <tr>\n",
       "      <th>4</th>\n",
       "      <td>5</td>\n",
       "      <td>471472</td>\n",
       "      <td>2</td>\n",
       "      <td>7</td>\n",
       "      <td>0.920000</td>\n",
       "      <td>1608.0</td>\n",
       "    </tr>\n",
       "  </tbody>\n",
       "</table>\n",
       "</div>"
      ],
      "text/plain": [
       "   ad_id  document_id  campaign_id  advertiser_id  confidence_level  \\\n",
       "0      1         6614            1              7          0.925264   \n",
       "1      2       471467            2              7          0.920000   \n",
       "2      3         7692            3              7          0.920000   \n",
       "3      4       471471            2              7          0.920000   \n",
       "4      5       471472            2              7          0.920000   \n",
       "\n",
       "   category_id  \n",
       "0       1209.0  \n",
       "1       1505.0  \n",
       "2       1209.0  \n",
       "3       1205.0  \n",
       "4       1608.0  "
      ]
     },
     "execution_count": 106,
     "metadata": {},
     "output_type": "execute_result"
    }
   ],
   "source": [
    "promoted_content.head()"
   ]
  },
  {
   "cell_type": "code",
   "execution_count": 40,
   "metadata": {
    "collapsed": false
   },
   "outputs": [],
   "source": [
    "documents_categories.rename(columns = {'confidence_level' : 'confi_category'},inplace = True)"
   ]
  },
  {
   "cell_type": "code",
   "execution_count": 42,
   "metadata": {
    "collapsed": true
   },
   "outputs": [],
   "source": [
    "temp = temp.merge(documents_categories, how='left', on='document_id')"
   ]
  },
  {
   "cell_type": "code",
   "execution_count": 56,
   "metadata": {
    "collapsed": false
   },
   "outputs": [],
   "source": [
    "temp2 = documents_categories.groupby(['document_id']).confi_category.max().reset_index(name = 'confi_category')"
   ]
  },
  {
   "cell_type": "code",
   "execution_count": 73,
   "metadata": {
    "collapsed": false
   },
   "outputs": [],
   "source": [
    "temp3 = temp2.merge(documents_categories, on = ['document_id', 'confi_category'], how = 'inner')"
   ]
  },
  {
   "cell_type": "code",
   "execution_count": 80,
   "metadata": {
    "collapsed": false
   },
   "outputs": [],
   "source": [
    "import matplotlib.pyplot as plt"
   ]
  },
  {
   "cell_type": "code",
   "execution_count": 87,
   "metadata": {
    "collapsed": false
   },
   "outputs": [
    {
     "data": {
      "text/plain": [
       "[<matplotlib.lines.Line2D at 0x1164d1c90>]"
      ]
     },
     "execution_count": 87,
     "metadata": {},
     "output_type": "execute_result"
    }
   ],
   "source": [
    "plt.plot(temp2.document_id[:100], temp2.confi_category[:100])"
   ]
  },
  {
   "cell_type": "code",
   "execution_count": 90,
   "metadata": {
    "collapsed": false
   },
   "outputs": [],
   "source": [
    "temp3.sort_values(axis = 0, by = \"document_id\", inplace= True)"
   ]
  },
  {
   "cell_type": "code",
   "execution_count": 1,
   "metadata": {
    "collapsed": false
   },
   "outputs": [
    {
     "ename": "NameError",
     "evalue": "name 'temp' is not defined",
     "output_type": "error",
     "traceback": [
      "\u001b[0;31m---------------------------------------------------------------------------\u001b[0m",
      "\u001b[0;31mNameError\u001b[0m                                 Traceback (most recent call last)",
      "\u001b[0;32m<ipython-input-1-918be47e6e44>\u001b[0m in \u001b[0;36m<module>\u001b[0;34m()\u001b[0m\n\u001b[0;32m----> 1\u001b[0;31m \u001b[0mtemp4\u001b[0m \u001b[0;34m=\u001b[0m \u001b[0mtemp\u001b[0m\u001b[0;34m.\u001b[0m\u001b[0mgroupby\u001b[0m\u001b[0;34m(\u001b[0m\u001b[0;34m[\u001b[0m\u001b[0;34m'document_id_x'\u001b[0m\u001b[0;34m,\u001b[0m \u001b[0;34m'ad_id'\u001b[0m\u001b[0;34m,\u001b[0m \u001b[0;34m'ads_on_doc'\u001b[0m\u001b[0;34m,\u001b[0m \u001b[0;34m'clicked'\u001b[0m\u001b[0;34m,\u001b[0m \u001b[0;34m'display_id'\u001b[0m\u001b[0;34m,\u001b[0m \u001b[0;34m'document_id'\u001b[0m\u001b[0;34m,\u001b[0m \u001b[0;34m'campaign_id'\u001b[0m\u001b[0;34m,\u001b[0m\u001b[0;34m'advertiser_id'\u001b[0m\u001b[0;34m]\u001b[0m\u001b[0;34m)\u001b[0m\u001b[0;34m.\u001b[0m\u001b[0mconfi_category\u001b[0m\u001b[0;34m.\u001b[0m\u001b[0mmax\u001b[0m\u001b[0;34m(\u001b[0m\u001b[0;34m)\u001b[0m\u001b[0;34m.\u001b[0m\u001b[0mreset_index\u001b[0m\u001b[0;34m(\u001b[0m\u001b[0;34m)\u001b[0m\u001b[0;34m\u001b[0m\u001b[0m\n\u001b[0m",
      "\u001b[0;31mNameError\u001b[0m: name 'temp' is not defined"
     ]
    }
   ],
   "source": [
    "temp4 = temp.groupby(['document_id_x', 'ad_id', 'ads_on_doc', 'clicked', 'display_id', 'document_id', 'campaign_id','advertiser_id']).confi_category.max().reset_index()"
   ]
  },
  {
   "cell_type": "code",
   "execution_count": null,
   "metadata": {
    "collapsed": false
   },
   "outputs": [],
   "source": [
    "temp4"
   ]
  },
  {
   "cell_type": "code",
   "execution_count": null,
   "metadata": {
    "collapsed": true
   },
   "outputs": [],
   "source": []
  }
 ],
 "metadata": {
  "anaconda-cloud": {},
  "kernelspec": {
   "display_name": "Python [default]",
   "language": "python",
   "name": "python2"
  },
  "language_info": {
   "codemirror_mode": {
    "name": "ipython",
    "version": 2
   },
   "file_extension": ".py",
   "mimetype": "text/x-python",
   "name": "python",
   "nbconvert_exporter": "python",
   "pygments_lexer": "ipython2",
   "version": "2.7.12"
  }
 },
 "nbformat": 4,
 "nbformat_minor": 1
}
