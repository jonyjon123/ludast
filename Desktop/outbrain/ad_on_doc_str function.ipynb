{
 "cells": [
  {
   "cell_type": "code",
   "execution_count": null,
   "metadata": {
    "collapsed": true
   },
   "outputs": [],
   "source": [
    "#returns 2 tables, document on ad - doc-ad normalized score ; ad strength - ad normalized score\n",
    "#requires: base table of train (or validation similiar to train) with document id of display id merged (from events)\n",
    "def ad_on_doc_str(train):\n",
    "    train_ad_count_per_display = train.groupby(['display_id'])['display_id'].agg({'ads_on_doc' : 'count'}).reset_index()\n",
    "    train_temp = train.merge(train_ad_count_per_display, how = 'left', on = 'display_id')\n",
    "    del train_ad_count_per_display\n",
    "    document_on_ad = train_temp.groupby(['document_id','ad_id','ads_on_doc']).clicked.agg({'clicked' : 'sum', 'total' : 'count'}).reset_index()\n",
    "    document_on_ad['uni_chance'] = 1 / document_on_ad['ads_on_doc']\n",
    "    document_on_ad['clicked_percent'] = document_on_ad['clicked'] / document_on_ad['total']\n",
    "    document_on_ad['clicked_percent_normalized'] = (document_on_ad['clicked'] + 12 * document_on_ad['clicked_percent'].mean()) / (12 + document_on_ad['total'])\n",
    "    document_on_ad['likelihood_normalized'] = document_on_ad['clicked_percent_normalized'] / document_on_ad['uni_chance']\n",
    "    document_on_ad['like_mul_total_normalized'] = document_on_ad['likelihood_normalized'] * document_on_ad['total']\n",
    "    document_on_ad = document_on_ad.drop(document_on_ad.columns[[2,4,5,6,7,8]],axis = 1).groupby(['document_id','ad_id']).sum().reset_index()\n",
    "    document_on_ad['score'] = document_on_ad['like_mul_total_normalized'] / document_on_ad['total']\n",
    "    document_on_ad.drop(document_on_ad.columns[[2,3]],axis = 1, inplace=True)\n",
    "    document_on_ad.sort_values('score',inplace=True, ascending=False)\n",
    "    ad_strength = train_temp.groupby(['ad_id','ads_on_doc']).clicked.agg({'clicked' : 'sum', 'total' : 'count'}).reset_index()\n",
    "    ad_strength['uni_chance'] = 1 / ad_strength['ads_on_doc']\n",
    "    ad_strength['clicked_percent'] = ad_strength['clicked'] / ad_strength['total']\n",
    "    ad_strength['clicked_percent_normalized'] = (ad_strength['clicked'] + 12 * ad_strength['clicked_percent'].mean()) / (12 + ad_strength['total'])\n",
    "    ad_strength['likelihood_normalized'] = ad_strength['clicked_percent_normalized'] / ad_strength['uni_chance']\n",
    "    ad_strength['like_mul_total_normalized'] = ad_strength['likelihood_normalized'] * ad_strength['total']\n",
    "    ad_strength = ad_strength.drop(ad_strength.columns[[1,3,4,5,6,7]],axis = 1).groupby(['ad_id']).sum().reset_index()\n",
    "    ad_strength['score'] = ad_strength['like_mul_total_normalized'] / ad_strength['total']\n",
    "    ad_strength.drop(ad_strength.columns[[1,2]],axis = 1, inplace=True)\n",
    "    ad_strength.sort_values('score',inplace=True, ascending=False)\n",
    "    del train_temp\n",
    "    return document_on_ad, ad_strength"
   ]
  }
 ],
 "metadata": {
  "kernelspec": {
   "display_name": "Python [default]",
   "language": "python",
   "name": "python2"
  },
  "language_info": {
   "codemirror_mode": {
    "name": "ipython",
    "version": 2
   },
   "file_extension": ".py",
   "mimetype": "text/x-python",
   "name": "python",
   "nbconvert_exporter": "python",
   "pygments_lexer": "ipython2",
   "version": "2.7.12"
  }
 },
 "nbformat": 4,
 "nbformat_minor": 1
}
