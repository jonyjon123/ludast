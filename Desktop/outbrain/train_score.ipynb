{
 "cells": [
  {
   "cell_type": "code",
   "execution_count": null,
   "metadata": {
    "collapsed": true
   },
   "outputs": [],
   "source": [
    "#method to score likelihood without submitting\n",
    "#need to have display_id column"
   ]
  },
  {
   "cell_type": "code",
   "execution_count": null,
   "metadata": {
    "collapsed": true
   },
   "outputs": [],
   "source": [
    "#sort values according to likelihood and display id\n",
    "train.sort_values(['display_id', 'likelihood'], inplace=True, ascending=[True, False] )"
   ]
  },
  {
   "cell_type": "code",
   "execution_count": null,
   "metadata": {
    "collapsed": true
   },
   "outputs": [],
   "source": [
    "#copy this code to get score based on the distance of the actual clicked ad between the predicted place and the first place\n",
    "\n",
    "train[\"seq\"] = np.arange(train.shape[0])\n",
    "Y_seq = train[train.clicked == 1].seq.values\n",
    "Y_first = train[['display_id', 'seq']].drop_duplicates(subset='display_id', keep='first').seq.values\n",
    "Y_ranks = Y_seq - Y_first\n",
    "score = np.mean(1.0 / (1.0 + Y_ranks))\n",
    "print(\"MAP: %.12f\" % score)"
   ]
  }
 ],
 "metadata": {
  "kernelspec": {
   "display_name": "Python [conda root]",
   "language": "python",
   "name": "conda-root-py"
  },
  "language_info": {
   "codemirror_mode": {
    "name": "ipython",
    "version": 2
   },
   "file_extension": ".py",
   "mimetype": "text/x-python",
   "name": "python",
   "nbconvert_exporter": "python",
   "pygments_lexer": "ipython2",
   "version": "2.7.12"
  }
 },
 "nbformat": 4,
 "nbformat_minor": 1
}
