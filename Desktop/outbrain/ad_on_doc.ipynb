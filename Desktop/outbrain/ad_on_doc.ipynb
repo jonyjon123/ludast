{
 "cells": [
  {
   "cell_type": "code",
   "execution_count": 7,
   "metadata": {
    "collapsed": false
   },
   "outputs": [],
   "source": [
    "import numpy as np\n",
    "import pandas as p\n",
    "\n",
    "#documents_categories = p.read_csv(\"/Users/astrachan/Desktop/outbrain/source_tables/documents_categories.csv\")\n",
    "#clicks_test = p.read_csv(\"/Users/astrachan/Desktop/outbrain/source_tables/clicks_test.csv\")\n",
    "#documents_meta = p.read_csv(\"/Users/astrachan/Desktop/outbrain/source_tables/documents_meta.csv\")\n",
    "#documents_entities = p.read_csv(\"/Users/astrachan/Desktop/outbrain/source_tables/documents_entities.csv\")\n",
    "#promoted_content = p.read_csv(\"/Users/astrachan/Desktop/outbrain/source_tables/promoted_content.csv\", dtype = {\"ad_id\":int, \"document_id\":int, \"campaign_id\":int, \"advertiser_id\":int})\n",
    "#sample_submission = p.read_csv(\"/Users/astrachan/Desktop/outbrain/source_tables/sample_submission.csv\")\n",
    "#documents_topics = p.read_csv(\"/Users/astrachan/Desktop/outbrain/source_tables/documents_topics.csv\")\n",
    "train = p.read_csv(\"/Users/astrachan/Desktop/outbrain/source_tables/clicks_train.csv\", dtype={\"display_id\": int, \"ad_id\": int, \"clicked\" : bool})\n",
    "events = p.read_csv(\"/Users/astrachan/Desktop/outbrain/source_tables/events.csv\", dtype={\"display_id\": int, \"uuid\": str, \"document_id\" : int, \"timestamp\" : int, \"platform\" : str, \"geo_location\" : str})\n",
    "#page_views = p.read_csv(\"/Users/astrachan/Desktop/outbrain/source_tables/page_views.csv\")\n",
    "#page_views_sample = p.read_csv(\"/Users/astrachan/Desktop/outbrain/source_tables/page_views_sample.csv\")"
   ]
  },
  {
   "cell_type": "code",
   "execution_count": 8,
   "metadata": {
    "collapsed": false
   },
   "outputs": [],
   "source": [
    "#add number of ads on display\n",
    "train_ad_count_per_display = train.groupby(['display_id'])['display_id'].agg({'ads_on_doc' : 'count'}).reset_index()\n",
    "train = train.merge(train_ad_count_per_display, how = 'left', on = 'display_id')\n",
    "del train_ad_count_per_display"
   ]
  },
  {
   "cell_type": "code",
   "execution_count": 9,
   "metadata": {
    "collapsed": false
   },
   "outputs": [],
   "source": [
    "#add the document_id describing ad\n",
    "#add it later!!\n",
    "#train = train.merge(promoted_content.drop(promoted_content.columns[[2,3]],axis = 1), how = 'left', on = 'ad_id')\n",
    "#add the document_id of the display\n",
    "events.drop(events.columns[[1,3,4,5]],axis = 1,inplace=True)\n",
    "train = train.merge(events, how = 'left', on = 'display_id')"
   ]
  },
  {
   "cell_type": "code",
   "execution_count": 4,
   "metadata": {
    "collapsed": false
   },
   "outputs": [],
   "source": [
    "#split to validation and train, choosing display_id by random\n",
    "display_ids = train.groupby(['display_id'])['display_id'].agg({'count' : 'count'}).reset_index().drop('count',axis = 1)\n",
    "validation_displays = display_ids.sample(frac = 0.2)\n",
    "train.reset_index(level=0, inplace=True)\n",
    "validation = validation_displays.merge(train, how = 'inner', on = 'display_id')\n",
    "train = train.drop(validation['index'])"
   ]
  },
  {
   "cell_type": "code",
   "execution_count": 10,
   "metadata": {
    "collapsed": true
   },
   "outputs": [],
   "source": [
    "ad_strength = train.groupby(['ad_id','ads_on_doc']).clicked.agg({'clicked' : 'sum', 'total' : 'count'}).reset_index()"
   ]
  },
  {
   "cell_type": "code",
   "execution_count": 11,
   "metadata": {
    "collapsed": true
   },
   "outputs": [],
   "source": [
    "#add expected chance of ad to be chosen [uni_chance]\n",
    "ad_strength['uni_chance'] = 1 / ad_strength['ads_on_doc']\n",
    "#add clicked precentage\n",
    "ad_strength['clicked_percent'] = ad_strength['clicked'] / ad_strength['total']\n",
    "#add normalized clicked precentage\n",
    "ad_strength['clicked_percent_normalized'] = (ad_strength['clicked'] + 12 * ad_strength['clicked_percent'].mean()) / (12 + ad_strength['total'])\n",
    "#create a likelihood column which shows how strong the actual \n",
    "#clicked percentage is in relation to the uniform chance, added regularization\n",
    "#normalized likelihood\n",
    "ad_strength['likelihood_normalized'] = ad_strength['clicked_percent_normalized'] / ad_strength['uni_chance']\n",
    "#on the way to adding together same pairs with different ad_on_doc\n",
    "ad_strength['like_mul_total_normalized'] = ad_strength['likelihood_normalized'] * ad_strength['total']"
   ]
  },
  {
   "cell_type": "code",
   "execution_count": 12,
   "metadata": {
    "collapsed": false
   },
   "outputs": [
    {
     "name": "stdout",
     "output_type": "stream",
     "text": [
      "   ad_id  ads_on_doc  total  clicked  uni_chance  clicked_percent  \\\n",
      "0      1           3      1      0.0    0.333333         0.000000   \n",
      "1      1           8      1      0.0    0.125000         0.000000   \n",
      "2      2           4      3      0.0    0.250000         0.000000   \n",
      "3      2           6     17      1.0    0.166667         0.058824   \n",
      "4      2           8      1      0.0    0.125000         0.000000   \n",
      "\n",
      "   clicked_percent_normalized  likelihood_normalized  \\\n",
      "0                    0.148420               0.445259   \n",
      "1                    0.148420               1.187358   \n",
      "2                    0.128630               0.514522   \n",
      "3                    0.101016               0.606094   \n",
      "4                    0.148420               1.187358   \n",
      "\n",
      "   like_mul_total_normalized  \n",
      "0                   0.445259  \n",
      "1                   1.187358  \n",
      "2                   1.543565  \n",
      "3                  10.303604  \n",
      "4                   1.187358  \n"
     ]
    }
   ],
   "source": [
    "print ad_strength.head()"
   ]
  },
  {
   "cell_type": "code",
   "execution_count": 13,
   "metadata": {
    "collapsed": false
   },
   "outputs": [],
   "source": [
    "#get scores for the ad_id grouped over the ad_on_doc\n",
    "ad_strength = ad_strength.drop(ad_strength.columns[[1,3,4,5,6,7]],axis = 1).groupby(['ad_id']).sum().reset_index()\n",
    "ad_strength['score'] = ad_strength['like_mul_total_normalized'] / ad_strength['total']\n",
    "ad_strength.drop(ad_strength.columns[[1,2]],axis = 1, inplace=True)\n",
    "ad_strength.sort_values('score',inplace=True, ascending=False)"
   ]
  },
  {
   "cell_type": "code",
   "execution_count": 14,
   "metadata": {
    "collapsed": false
   },
   "outputs": [
    {
     "name": "stdout",
     "output_type": "stream",
     "text": [
      "         ad_id     score\n",
      "32688    36041  5.879594\n",
      "129111  144085  4.751383\n",
      "228889  257136  4.688874\n",
      "129109  144083  4.500740\n",
      "1438      1615  4.275040\n"
     ]
    }
   ],
   "source": [
    "print ad_strength.head()"
   ]
  },
  {
   "cell_type": "code",
   "execution_count": 15,
   "metadata": {
    "collapsed": false
   },
   "outputs": [],
   "source": [
    "#create document_on_ad, intended calculating the statistical strenght of the ad document pair\n",
    "document_on_ad = train.groupby(['document_id','ad_id','ads_on_doc']).clicked.agg({'clicked' : 'sum', 'total' : 'count'}).reset_index()"
   ]
  },
  {
   "cell_type": "code",
   "execution_count": 16,
   "metadata": {
    "collapsed": false
   },
   "outputs": [],
   "source": [
    "#add expected chance of ad to be chosen [uni_chance]\n",
    "document_on_ad['uni_chance'] = 1 / document_on_ad['ads_on_doc']\n",
    "#add clicked precentage\n",
    "document_on_ad['clicked_percent'] = document_on_ad['clicked'] / document_on_ad['total']\n",
    "#add normalized clicked precentage\n",
    "document_on_ad['clicked_percent_normalized'] = (document_on_ad['clicked'] + 12 * document_on_ad['clicked_percent'].mean()) / (12 + document_on_ad['total'])\n",
    "#create a likelihood column which shows how strong the actual \n",
    "#clicked percentage is in relation to the uniform chance, added regularization\n",
    "#normalized likelihood\n",
    "document_on_ad['likelihood_normalized'] = document_on_ad['clicked_percent_normalized'] / document_on_ad['uni_chance']\n",
    "#on the way to adding together same pairs with different ad_on_doc\n",
    "document_on_ad['like_mul_total_normalized'] = document_on_ad['likelihood_normalized'] * document_on_ad['total']"
   ]
  },
  {
   "cell_type": "code",
   "execution_count": 17,
   "metadata": {
    "collapsed": false
   },
   "outputs": [
    {
     "name": "stdout",
     "output_type": "stream",
     "text": [
      "   document_id   ad_id  ads_on_doc  total  clicked  uni_chance  \\\n",
      "0            2  207645           3      1      0.0    0.333333   \n",
      "1            2  436985           3      1      0.0    0.333333   \n",
      "2            2  439457           3      1      1.0    0.333333   \n",
      "3            4   63334           9      1      0.0    0.111111   \n",
      "4            4   68740           9      1      0.0    0.111111   \n",
      "\n",
      "   clicked_percent  clicked_percent_normalized  likelihood_normalized  \\\n",
      "0              0.0                    0.167983               0.503950   \n",
      "1              0.0                    0.167983               0.503950   \n",
      "2              1.0                    0.244906               0.734719   \n",
      "3              0.0                    0.167983               1.511849   \n",
      "4              0.0                    0.167983               1.511849   \n",
      "\n",
      "   like_mul_total_normalized  \n",
      "0                   0.503950  \n",
      "1                   0.503950  \n",
      "2                   0.734719  \n",
      "3                   1.511849  \n",
      "4                   1.511849  \n"
     ]
    }
   ],
   "source": [
    "print document_on_ad.head()"
   ]
  },
  {
   "cell_type": "code",
   "execution_count": 18,
   "metadata": {
    "collapsed": false
   },
   "outputs": [],
   "source": [
    "#get scores for the pairs ad_id doc_id grouped over the ad_on_doc (with mean on likelihood)\n",
    "document_on_ad = document_on_ad.drop(document_on_ad.columns[[2,4,5,6,7,8]],axis = 1).groupby(['document_id','ad_id']).sum().reset_index()\n",
    "document_on_ad['score'] = document_on_ad['like_mul_total_normalized'] / document_on_ad['total']\n",
    "document_on_ad.drop(document_on_ad.columns[[2,3]],axis = 1, inplace=True)\n",
    "document_on_ad.sort_values('score',inplace=True, ascending=False)"
   ]
  },
  {
   "cell_type": "code",
   "execution_count": 19,
   "metadata": {
    "collapsed": false
   },
   "outputs": [
    {
     "name": "stdout",
     "output_type": "stream",
     "text": [
      "          document_id   ad_id     score\n",
      "8280589       1026091   36041  7.675055\n",
      "7761034        961313  234107  7.334054\n",
      "7763341        961361  132019  7.300757\n",
      "21772541      2115556  167987  7.269273\n",
      "21774448      2115593  167987  7.094973\n"
     ]
    }
   ],
   "source": [
    "print document_on_ad.head()"
   ]
  },
  {
   "cell_type": "code",
   "execution_count": 20,
   "metadata": {
    "collapsed": false
   },
   "outputs": [],
   "source": [
    "document_on_ad.to_csv('/Users/astrachan/Desktop/outbrain/output_tables/document_on_ad.csv', index=False)\n",
    "ad_strength.to_csv('/Users/astrachan/Desktop/outbrain/output_tables/ad_strength.csv', index = False)"
   ]
  },
  {
   "cell_type": "code",
   "execution_count": 21,
   "metadata": {
    "collapsed": true
   },
   "outputs": [],
   "source": [
    "#merge document on ad and ad_strength, can see the difference in the scores\n",
    "scores = document_on_ad.merge(ad_strength, how = 'left', on = 'ad_id', suffixes = ('_doc_ad','_str'))"
   ]
  },
  {
   "cell_type": "code",
   "execution_count": 22,
   "metadata": {
    "collapsed": false
   },
   "outputs": [
    {
     "name": "stdout",
     "output_type": "stream",
     "text": [
      "   document_id   ad_id  score_doc_ad  score_str\n",
      "0      1026091   36041      7.675055   5.879594\n",
      "1       961313  234107      7.334054   1.233224\n",
      "2       961361  132019      7.300757   1.625554\n",
      "3      2115556  167987      7.269273   1.344240\n",
      "4      2115593  167987      7.094973   1.344240\n",
      "5      1976713   51402      7.094527   2.764124\n",
      "6      2307478  148444      7.031208   4.177255\n",
      "7      1035814  263141      6.963163   1.473062\n",
      "8       373803   35316      6.844664   2.931826\n",
      "9      1399897  132019      6.818983   1.625554\n"
     ]
    }
   ],
   "source": [
    "print scores.head(10)"
   ]
  },
  {
   "cell_type": "code",
   "execution_count": 23,
   "metadata": {
    "collapsed": false
   },
   "outputs": [
    {
     "name": "stdout",
     "output_type": "stream",
     "text": [
      "   display_id     index   ad_id clicked  document_id\n",
      "0    13587498  70121792     845   False       338866\n",
      "1    13587498  70121793     852   False       338866\n",
      "2    13587498  70121794  163624   False       338866\n",
      "3    13587498  70121795  201025   False       338866\n",
      "4    13587498  70121796  209912   False       338866\n"
     ]
    }
   ],
   "source": [
    "print validation.head()"
   ]
  },
  {
   "cell_type": "code",
   "execution_count": 38,
   "metadata": {
    "collapsed": false
   },
   "outputs": [],
   "source": [
    "#take vali, validation without index and ads_on_doc\n",
    "validation = validation.drop(validation.columns[[1,4]],axis = 1)\n",
    "#merge vali with strength and document on ad\n",
    "validation = validation.merge(document_on_ad, on= ['document_id','ad_id'], how = 'left')\n",
    "validation = validation.merge(ad_strength, on = ['ad_id'], how = 'left', suffixes=('_adoc','_str'))"
   ]
  },
  {
   "cell_type": "code",
   "execution_count": null,
   "metadata": {
    "collapsed": true
   },
   "outputs": [],
   "source": [
    "print validation.head()"
   ]
  },
  {
   "cell_type": "code",
   "execution_count": 39,
   "metadata": {
    "collapsed": false
   },
   "outputs": [
    {
     "name": "stdout",
     "output_type": "stream",
     "text": [
      "(17428626, 6)\n",
      "ad_doc nulls: 5364252\n",
      "portion: 0.30778398710259774\n",
      "ad_strength nulls: 27083\n",
      "portion: 0.0015539377573424318\n"
     ]
    }
   ],
   "source": [
    "#check ammount of missing data and fill\n",
    "print validation.shape\n",
    "doc_ad_null = validation.score_adoc.isnull().sum()\n",
    "str_null = validation.score_str.isnull().sum()\n",
    "print 'ad_doc nulls: ' + str(doc_ad_null)\n",
    "print 'portion: ' + repr(doc_ad_null / validation.shape[0])\n",
    "print 'ad_strength nulls: ' + str(str_null)\n",
    "print 'portion: ' + repr(str_null / validation.shape[0])"
   ]
  },
  {
   "cell_type": "code",
   "execution_count": null,
   "metadata": {
    "collapsed": true
   },
   "outputs": [],
   "source": [
    "#for filling NAs, check median mean and min\n",
    "print validation.score_adoc.mean()\n",
    "print validation.score_adoc.median()\n",
    "print validation.score_adoc.min()\n",
    "print validation.score_str.mean()\n",
    "print validation.score_str.median()\n",
    "print validation.score_str.min()"
   ]
  },
  {
   "cell_type": "code",
   "execution_count": null,
   "metadata": {
    "collapsed": true
   },
   "outputs": [],
   "source": [
    "#fill NAs\n",
    "validation.score_adoc = validation.score_adoc.fillna(validation.score_adoc.median())\n",
    "validation.score_str = validation.score_str.fillna(validation.score_str.median())"
   ]
  },
  {
   "cell_type": "code",
   "execution_count": 43,
   "metadata": {
    "collapsed": true
   },
   "outputs": [],
   "source": [
    "#predict on validation\n",
    "validation = validation.sort_values(['display_id','score_adoc','score_str'], ascending=False)"
   ]
  },
  {
   "cell_type": "code",
   "execution_count": 46,
   "metadata": {
    "collapsed": false
   },
   "outputs": [
    {
     "name": "stdout",
     "output_type": "stream",
     "text": [
      "MAP: 0.596897953235\n"
     ]
    }
   ],
   "source": [
    "validation[\"seq\"] = np.arange(validation.shape[0])\n",
    "Y_seq = validation[validation.clicked == 1].seq.values\n",
    "Y_first = validation[['display_id', 'seq']].drop_duplicates(subset='display_id', keep='first').seq.values\n",
    "Y_ranks = Y_seq - Y_first\n",
    "score = np.mean(1.0 / (1.0 + Y_ranks))\n",
    "print(\"MAP: %.12f\" % score)"
   ]
  },
  {
   "cell_type": "code",
   "execution_count": 50,
   "metadata": {
    "collapsed": false
   },
   "outputs": [
    {
     "data": {
      "text/plain": [
       "0.32520752044819357"
      ]
     },
     "execution_count": 50,
     "metadata": {},
     "output_type": "execute_result"
    }
   ],
   "source": [
    "max_rows = validation.groupby(['display_id'])['score_adoc'].transform(max) == validation['score_adoc']\n",
    "final = validation[max_rows]\n",
    "success = final[final['clicked'] == True]\n",
    "float(len(success)) / float(len(final))"
   ]
  }
 ],
 "metadata": {
  "anaconda-cloud": {},
  "kernelspec": {
   "display_name": "Python [default]",
   "language": "python",
   "name": "python2"
  },
  "language_info": {
   "codemirror_mode": {
    "name": "ipython",
    "version": 2
   },
   "file_extension": ".py",
   "mimetype": "text/x-python",
   "name": "python",
   "nbconvert_exporter": "python",
   "pygments_lexer": "ipython2",
   "version": "2.7.12"
  }
 },
 "nbformat": 4,
 "nbformat_minor": 1
}
