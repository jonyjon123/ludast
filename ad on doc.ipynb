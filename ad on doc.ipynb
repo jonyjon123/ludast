{
 "cells": [
  {
   "cell_type": "code",
   "execution_count": 1,
   "metadata": {
    "collapsed": false
   },
   "outputs": [],
   "source": [
    "import numpy as np\n",
    "import pandas as p\n",
    "\n",
    "#documents_categories = p.read_csv(\"/Users/astrachan/Desktop/outbrain/documents_categories.csv\")\n",
    "#clicks_test = p.read_csv(\"/Users/astrachan/Desktop/outbrain/clicks_test.csv\")\n",
    "#documents_meta = p.read_csv(\"/Users/astrachan/Desktop/outbrain/documents_meta.csv\")\n",
    "#documents_entities = p.read_csv(\"/Users/astrachan/Desktop/outbrain/documents_entities.csv\")\n",
    "promoted_content = p.read_csv(\"/Users/astrachan/Desktop/outbrain/promoted_content.csv\", dtype = {\"ad_id\":int, \"document_id\":int, \"campaign_id\":int, \"advertiser_id\":int})\n",
    "#sample_submission = p.read_csv(\"/Users/astrachan/Desktop/outbrain/sample_submission.csv\")\n",
    "#documents_topics = p.read_csv(\"/Users/astrachan/Desktop/outbrain/documents_topics.csv\")\n",
    "train = p.read_csv(\"/Users/astrachan/Desktop/outbrain/clicks_train.csv\", dtype={\"display_id\": int, \"ad_id\": int, \"clicked\" : bool})\n",
    "events = p.read_csv(\"/Users/astrachan/Desktop/outbrain/events.csv\", dtype={\"display_id\": int, \"uuid\": str, \"document_id\" : int, \"timestamp\" : int, \"platform\" : str, \"geo_location\" : str})\n",
    "#page_views = p.read_csv(\"/Users/astrachan/Desktop/outbrain/page_views.csv\")\n",
    "#page_views_sample = p.read_csv(\"/Users/astrachan/Desktop/outbrain/page_views_sample.csv\")"
   ]
  },
  {
   "cell_type": "code",
   "execution_count": 2,
   "metadata": {
    "collapsed": false
   },
   "outputs": [],
   "source": [
    "#add number of ads on display\n",
    "train_ad_count_per_display = train.groupby(['display_id'])['display_id'].agg({'ads_on_doc' : 'count'}).reset_index()\n",
    "train = train.merge(train_ad_count_per_display, how = 'left', on = 'display_id')\n",
    "del train_ad_count_per_display"
   ]
  },
  {
   "cell_type": "code",
   "execution_count": 3,
   "metadata": {
    "collapsed": false
   },
   "outputs": [],
   "source": [
    "#add the document_id describing ad\n",
    "train = train.merge(promoted_content.drop(promoted_content.columns[[2,3]],axis = 1), how = 'left', on = 'ad_id')\n",
    "#add the document_id of the display\n",
    "train = train.merge(events.drop(events.columns[[1,3,4,5]],axis = 1), how = 'left', on = 'display_id', suffixes = ('_of_ad',''))"
   ]
  },
  {
   "cell_type": "code",
   "execution_count": 4,
   "metadata": {
    "collapsed": false
   },
   "outputs": [
    {
     "name": "stderr",
     "output_type": "stream",
     "text": [
      "/Users/astrachan/anaconda/lib/python2.7/site-packages/ipykernel/__main__.py:7: SettingWithCopyWarning: \n",
      "A value is trying to be set on a copy of a slice from a DataFrame.\n",
      "Try using .loc[row_indexer,col_indexer] = value instead\n",
      "\n",
      "See the caveats in the documentation: http://pandas.pydata.org/pandas-docs/stable/indexing.html#indexing-view-versus-copy\n"
     ]
    }
   ],
   "source": [
    "#create document_on_ad, calculating the statistical strenght of the ad document link\n",
    "document_on_ad = train.groupby(['document_id','ad_id','document_id_of_ad','ads_on_doc']).clicked.agg({'clicked' : 'sum', 'total' : 'count'}).reset_index()\n",
    "document_on_ad['clicked_percent'] = document_on_ad['clicked'] / document_on_ad['total']\n",
    "#all pairs of document_on_ad that show at least 10 times together\n",
    "document_on_ad_10 = document_on_ad[document_on_ad.total > 10]\n",
    "#add expected chance of ad to be chosen [uni_chance]\n",
    "document_on_ad_10['uni_chance'] = document_on_ad_10.apply(lambda row: 1 / row.ads_on_doc, axis=1)"
   ]
  },
  {
   "cell_type": "code",
   "execution_count": 5,
   "metadata": {
    "collapsed": false
   },
   "outputs": [
    {
     "data": {
      "text/plain": [
       "0.3935121623875018"
      ]
     },
     "execution_count": 5,
     "metadata": {},
     "output_type": "execute_result"
    }
   ],
   "source": [
    "#just to see that 40% of the quantity of ad_doc lines repeat over 10 times \n",
    "#(that's without grouping the different ad_on_doc of same pairs)\n",
    "float(document_on_ad_10.total.sum()) / document_on_ad.total.sum()"
   ]
  },
  {
   "cell_type": "code",
   "execution_count": 6,
   "metadata": {
    "collapsed": false
   },
   "outputs": [
    {
     "name": "stderr",
     "output_type": "stream",
     "text": [
      "/Users/astrachan/anaconda/lib/python2.7/site-packages/ipykernel/__main__.py:3: SettingWithCopyWarning: \n",
      "A value is trying to be set on a copy of a slice from a DataFrame.\n",
      "Try using .loc[row_indexer,col_indexer] = value instead\n",
      "\n",
      "See the caveats in the documentation: http://pandas.pydata.org/pandas-docs/stable/indexing.html#indexing-view-versus-copy\n",
      "  app.launch_new_instance()\n"
     ]
    }
   ],
   "source": [
    "#create a likelihood column which shows how much stronger or weaker \n",
    "#the actual clicked percentage is in relation to the uniform chance\n",
    "document_on_ad_10['likelihood'] = document_on_ad_10.apply(lambda row: row['clicked_percent'] / row['uni_chance'], axis=1)"
   ]
  },
  {
   "cell_type": "code",
   "execution_count": 7,
   "metadata": {
    "collapsed": false
   },
   "outputs": [
    {
     "name": "stderr",
     "output_type": "stream",
     "text": [
      "/Users/astrachan/anaconda/lib/python2.7/site-packages/ipykernel/__main__.py:2: SettingWithCopyWarning: \n",
      "A value is trying to be set on a copy of a slice from a DataFrame.\n",
      "Try using .loc[row_indexer,col_indexer] = value instead\n",
      "\n",
      "See the caveats in the documentation: http://pandas.pydata.org/pandas-docs/stable/indexing.html#indexing-view-versus-copy\n",
      "  from ipykernel import kernelapp as app\n"
     ]
    }
   ],
   "source": [
    "#on the way to adding together same pairs with different ad_on_doc\n",
    "document_on_ad_10['like_mul_total'] = document_on_ad_10.apply(lambda row: row['likelihood'] * row['total'], axis=1)\n",
    "scores = document_on_ad_10.drop(document_on_ad_10.columns[[2,3,5,6,7,8]],axis = 1).groupby(['document_id','ad_id']).sum().reset_index()"
   ]
  },
  {
   "cell_type": "code",
   "execution_count": 8,
   "metadata": {
    "collapsed": false
   },
   "outputs": [],
   "source": [
    "#table giving a score to ad document pairing, can be used later on\n",
    "#also to make sets of different entities, categories and topics\n",
    "scores['score'] = scores.apply(lambda row: row['like_mul_total'] / row['total'], axis=1)"
   ]
  },
  {
   "cell_type": "code",
   "execution_count": 9,
   "metadata": {
    "collapsed": true
   },
   "outputs": [],
   "source": [
    "scores.sort_values('score',inplace=True)"
   ]
  },
  {
   "cell_type": "code",
   "execution_count": 10,
   "metadata": {
    "collapsed": false
   },
   "outputs": [
    {
     "name": "stdout",
     "output_type": "stream",
     "text": [
      "        document_id   ad_id  total  like_mul_total     score\n",
      "372198      1901873  173005     13             0.0  0.000000\n",
      "318359      1788292   97406     12             0.0  0.000000\n",
      "79735        808092   70516     16             0.0  0.000000\n",
      "79734        808092   64255     11             0.0  0.000000\n",
      "318365      1788292   98884     14             0.0  0.000000\n",
      "318368      1788292  103951     47             0.0  0.000000\n",
      "731764      2764751  288356     18             0.0  0.000000\n",
      "699769      2681701   66413     11             0.0  0.000000\n",
      "318385      1788292  114835     33             0.0  0.000000\n",
      "318389      1788292  118121     20             0.0  0.000000\n",
      "79725        807951  174547     13             0.0  0.000000\n",
      "699768      2681701   55883     16             0.0  0.000000\n",
      "318351      1788292   91933     12             0.0  0.000000\n",
      "318402      1788292  129027     22             0.0  0.000000\n",
      "318428      1788292  139067     55             0.0  0.000000\n",
      "318430      1788292  139670     13             0.0  0.000000\n",
      "79716        807951   78007     12             0.0  0.000000\n",
      "79715        807951   59628     11             0.0  0.000000\n",
      "318438      1788292  139793     23             0.0  0.000000\n",
      "79713        807951   46160     17             0.0  0.000000\n",
      "79711        807951   25876     13             0.0  0.000000\n",
      "699764      2681701   43253     18             0.0  0.000000\n",
      "318451      1788292  143716     13             0.0  0.000000\n",
      "79707        807589  174547     12             0.0  0.000000\n",
      "318472      1788292  151556     26             0.0  0.000000\n",
      "318406      1788292  129490     25             0.0  0.000000\n",
      "79702        807589   78937     11             0.0  0.000000\n",
      "79738        808092   78007     12             0.0  0.000000\n",
      "318342      1788292   78713     50             0.0  0.000000\n",
      "318237      1788292   34053     17             0.0  0.000000\n",
      "...             ...     ...    ...             ...       ...\n",
      "354546      1859636  357713     21           162.0  7.714286\n",
      "621080      2466423  231378     14           108.0  7.714286\n",
      "102908       961313  234107    178          1376.0  7.730337\n",
      "274797      1687168  165380     48           376.0  7.833333\n",
      "103404       964221  227140     14           110.0  7.857143\n",
      "405151      1976713   51402    101           800.0  7.920792\n",
      "88123        842518   96401     11            88.0  8.000000\n",
      "55800        473873  167987     11            88.0  8.000000\n",
      "236682      1556041  176225     16           128.0  8.000000\n",
      "239112      1569945  144577     22           176.0  8.000000\n",
      "55790        473816  167987     16           128.0  8.000000\n",
      "350946      1851892  167540     20           160.0  8.000000\n",
      "289066      1716820  165380     17           136.0  8.000000\n",
      "650938      2548360  284847     11            90.0  8.181818\n",
      "306749      1769201  138513     11            90.0  8.181818\n",
      "330903      1820814  184220     11            90.0  8.181818\n",
      "249441      1598725   26304     12            99.0  8.250000\n",
      "550103      2288983   55167     12            99.0  8.250000\n",
      "541899      2269243  448843     13           108.0  8.307692\n",
      "147630      1142577   26304     13           108.0  8.307692\n",
      "558962      2307478  148444     80           666.0  8.325000\n",
      "429335      2037145  178899     12           100.0  8.333333\n",
      "626566      2487011  144085     15           126.0  8.400000\n",
      "547176      2282225  148444     16           135.0  8.437500\n",
      "285523      1711272  187173     26           220.0  8.461538\n",
      "118872      1035814   36041     20           170.0  8.500000\n",
      "115150      1026091   36041    109           940.0  8.623853\n",
      "359254      1870435   26304     15           135.0  9.000000\n",
      "280471      1696723   26304     11            99.0  9.000000\n",
      "344520      1841245  193952     11           100.0  9.090909\n",
      "\n",
      "[744397 rows x 5 columns]\n"
     ]
    }
   ],
   "source": [
    "print scores"
   ]
  },
  {
   "cell_type": "code",
   "execution_count": null,
   "metadata": {
    "collapsed": true
   },
   "outputs": [],
   "source": []
  }
 ],
 "metadata": {
  "anaconda-cloud": {},
  "kernelspec": {
   "display_name": "Python [default]",
   "language": "python",
   "name": "python2"
  },
  "language_info": {
   "codemirror_mode": {
    "name": "ipython",
    "version": 2
   },
   "file_extension": ".py",
   "mimetype": "text/x-python",
   "name": "python",
   "nbconvert_exporter": "python",
   "pygments_lexer": "ipython2",
   "version": "2.7.12"
  }
 },
 "nbformat": 4,
 "nbformat_minor": 1
}
