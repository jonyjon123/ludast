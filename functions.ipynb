{
 "cells": [
  {
   "cell_type": "code",
   "execution_count": null,
   "metadata": {
    "collapsed": true
   },
   "outputs": [],
   "source": [
    "#returns 2 tables, document on ad - doc-ad normalized score ; ad strength - ad normalized score\n",
    "#requires: base table of train (or validation similiar to train) with document id of display id merged (from events)\n",
    "def ad_on_doc_ad_str(train):\n",
    "    train_ad_count_per_display = train.groupby(['display_id'])['display_id'].agg({'ads_on_doc' : 'count'}).reset_index()\n",
    "    train_temp = train.merge(train_ad_count_per_display, how = 'left', on = 'display_id')\n",
    "    del train_ad_count_per_display\n",
    "    ad_on_doc = train_temp.groupby(['document_id','ad_id','ads_on_doc']).clicked.agg({'clicked' : 'sum', 'total' : 'count'}).reset_index()\n",
    "    ad_on_doc['uni_chance'] = 1 / ad_on_doc['ads_on_doc']\n",
    "    ad_on_doc['clicked_percent'] = ad_on_doc['clicked'] / ad_on_doc['total']\n",
    "    ad_on_doc['clicked_percent_normalized'] = (ad_on_doc['clicked'] + 12 * ad_on_doc['clicked_percent'].mean()) / (12 + ad_on_doc['total'])\n",
    "    ad_on_doc['likelihood_normalized'] = ad_on_doc['clicked_percent_normalized'] / ad_on_doc['uni_chance']\n",
    "    ad_on_doc['like_mul_total_normalized'] = ad_on_doc['likelihood_normalized'] * ad_on_doc['total']\n",
    "    ad_on_doc = ad_on_doc.drop(ad_on_doc.columns[[2,4,5,6,7,8]],axis = 1).groupby(['document_id','ad_id']).sum().reset_index()\n",
    "    ad_on_doc['score'] = ad_on_doc['like_mul_total_normalized'] / ad_on_doc['total']\n",
    "    ad_on_doc.drop(ad_on_doc.columns[[2,3]],axis = 1, inplace=True)\n",
    "    ad_on_doc.sort_values('score',inplace=True, ascending=False)\n",
    "    ad_strength = train_temp.groupby(['ad_id','ads_on_doc']).clicked.agg({'clicked' : 'sum', 'total' : 'count'}).reset_index()\n",
    "    ad_strength['uni_chance'] = 1 / ad_strength['ads_on_doc']\n",
    "    ad_strength['clicked_percent'] = ad_strength['clicked'] / ad_strength['total']\n",
    "    ad_strength['clicked_percent_normalized'] = (ad_strength['clicked'] + 12 * ad_strength['clicked_percent'].mean()) / (12 + ad_strength['total'])\n",
    "    ad_strength['likelihood_normalized'] = ad_strength['clicked_percent_normalized'] / ad_strength['uni_chance']\n",
    "    ad_strength['like_mul_total_normalized'] = ad_strength['likelihood_normalized'] * ad_strength['total']\n",
    "    ad_strength = ad_strength.drop(ad_strength.columns[[1,3,4,5,6,7]],axis = 1).groupby(['ad_id']).sum().reset_index()\n",
    "    ad_strength['score'] = ad_strength['like_mul_total_normalized'] / ad_strength['total']\n",
    "    ad_strength.drop(ad_strength.columns[[1,2]],axis = 1, inplace=True)\n",
    "    ad_strength.sort_values('score',inplace=True, ascending=False)\n",
    "    del train_temp\n",
    "    return ad_on_doc, ad_strength"
   ]
  },
  {
   "cell_type": "code",
   "execution_count": null,
   "metadata": {
    "collapsed": true
   },
   "outputs": [],
   "source": [
    "#scoring function calculating portion of correct display ids predictions\n",
    "def score_portion(val_copy):\n",
    "    max_rows = val_copy.groupby(['display_id'])['predict'].transform(max) == val_copy['predict']\n",
    "    final = val_copy[max_rows]\n",
    "    success = final[final['clicked'] == True]\n",
    "    score = float(len(success)) / float(len(final))\n",
    "    print(\"PORTION: %.12f\" % score)\n",
    "    return score"
   ]
  },
  {
   "cell_type": "code",
   "execution_count": null,
   "metadata": {
    "collapsed": true
   },
   "outputs": [],
   "source": [
    "#scoring function taking in consideration the distance of right ad from 1st position\n",
    "def score_map(val_copy):\n",
    "    val_copy.sort_values(['display_id', 'predict'], inplace=True, ascending=[True, False] )\n",
    "    val_copy[\"seq\"] = np.arange(val_copy.shape[0])\n",
    "    Y_seq = val_copy[val_copy.clicked == 1].seq.values\n",
    "    Y_first = val_copy[['display_id', 'seq']].drop_duplicates(subset='display_id', keep='first').seq.values\n",
    "    Y_ranks = Y_seq - Y_first\n",
    "    score = np.mean(1.0 / (1.0 + Y_ranks))\n",
    "    print(\"MAP: %.12f\" % score)"
   ]
  },
  {
   "cell_type": "code",
   "execution_count": null,
   "metadata": {
    "collapsed": true
   },
   "outputs": [],
   "source": [
    "#function giving corellation score between document and ad by its' topics and categories\n",
    "def get_score(x,y,dic):\n",
    "    if x > y:\n",
    "        key = (y,x)\n",
    "    else:\n",
    "        key = (x,y)\n",
    "    return dic(key)\n",
    "def correlation_score(x,y,dic,x_conf,y_conf):\n",
    "    return get_score(x,y,dic) * x_conf * y_conf"
   ]
  }
 ],
 "metadata": {
  "kernelspec": {
   "display_name": "Python [default]",
   "language": "python",
   "name": "python2"
  },
  "language_info": {
   "codemirror_mode": {
    "name": "ipython",
    "version": 2
   },
   "file_extension": ".py",
   "mimetype": "text/x-python",
   "name": "python",
   "nbconvert_exporter": "python",
   "pygments_lexer": "ipython2",
   "version": "2.7.12"
  }
 },
 "nbformat": 4,
 "nbformat_minor": 1
}
